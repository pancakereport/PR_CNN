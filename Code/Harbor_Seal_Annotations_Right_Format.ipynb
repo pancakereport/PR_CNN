{
 "cells": [
  {
   "cell_type": "code",
   "execution_count": null,
   "id": "cda69948",
   "metadata": {},
   "outputs": [],
   "source": [
    "# code modeled after https://github.com/madelinehayes/seabirdNET\n",
    "# note: code is almost identical to Elephant_Seal_Annotations_Right_Format"
   ]
  },
  {
   "cell_type": "code",
   "execution_count": null,
   "id": "5988e512",
   "metadata": {},
   "outputs": [],
   "source": [
    "import os\n",
    "import argparse\n",
    "import numpy as np\n",
    "import json\n",
    "import csv\n",
    "import random"
   ]
  },
  {
   "cell_type": "code",
   "execution_count": null,
   "id": "16f24901",
   "metadata": {},
   "outputs": [],
   "source": [
    "# change this to the dir for tiled images\n",
    "path = '../Images/Harbor_Seals_Full_Data'\n",
    "#path = '../Images/Harbor_Seals_Beach_Only'\n",
    "\n",
    "image_list = [f for f in os.listdir(path) if f.endswith('.png')]"
   ]
  },
  {
   "cell_type": "code",
   "execution_count": null,
   "id": "4d6c894b",
   "metadata": {},
   "outputs": [],
   "source": [
    "# shuffle image list and split into training, testing, validation\n",
    "random.shuffle(image_list)\n",
    "total_count = len(image_list)\n",
    "\n",
    "print(total_count)\n",
    "\n",
    "# 80-10-10\n",
    "test_index = int(total_count*.1)\n",
    "val_index = int(total_count*.9*.1) + test_index\n",
    "\n",
    "test_data = image_list[:test_index]\n",
    "val_data = image_list[test_index:val_index]\n",
    "train_data = image_list[val_index:]\n",
    "\n",
    "print(len(test_data), len(val_data), len(train_data))"
   ]
  },
  {
   "cell_type": "code",
   "execution_count": null,
   "id": "75cb8a1f",
   "metadata": {},
   "outputs": [],
   "source": [
    "# path to write the output file\n",
    "via_path = \"..\\Images\\Harbor_Seals_Full_Data\\Harbor_Seal_Anno_csv.csv\" \n",
    "image_annotations_train = []\n",
    "image_annotations_test = []\n",
    "image_annotations_val = []\n",
    "\n",
    "with open(via_path, \"r\") as f:\n",
    "    reader = csv.reader(f, delimiter=\",\")\n",
    "    for line in reader: \n",
    "        # output we want\n",
    "        # path/to/image.jpg,x1,y1,x2,y2,class_name\n",
    "        if '#' in line[0][0]:\n",
    "            # bypassing comments in csv\n",
    "            continue\n",
    "        filename = line[1][2:-2]\n",
    "        # strip brackets, split and get only the values we care about, then convert all the string to int \n",
    "        coords = list(map(int,list(map(float, line[4].strip('][').split(',')[1:]))))\n",
    "        \n",
    "        # make sure only bounding rectangles were used\n",
    "        if len(coords) != 4:\n",
    "            print('bad annotation')\n",
    "            continue\n",
    "            \n",
    "        top_left_x, top_left_y, width, height = list(map(int,list(map(float, line[4].strip('][').split(',')[1:]))))\n",
    "\n",
    "        # bad annotation (too small), so skip\n",
    "        if width == 0 or height == 0:\n",
    "            continue\n",
    "        # move from top left and width/height to x and y values\n",
    "        if top_left_x < 0:\n",
    "            top_left_x = 1\n",
    "        if top_left_y < 0:\n",
    "            top_left_y = 1\n",
    "        x1 = top_left_x\n",
    "        x2 = top_left_x + width\n",
    "        y1 = top_left_y\n",
    "        y2 = top_left_y + height \n",
    "        \n",
    "        # occassionally I had some issues with boxes being to 501 pixels, this just makes sense all boxes are on the image\n",
    "        if x2 > 500:\n",
    "            x2 = 500\n",
    "        if y2 > 500:\n",
    "            y2 = 500\n",
    "\n",
    "        # only one class\n",
    "        name = \"seal\"\n",
    "\n",
    "        # create the csv row\n",
    "        new_row = []\n",
    "        if filename in train_data:\n",
    "            new_row.append(filename)\n",
    "            new_row.append(x1)\n",
    "            new_row.append(y1)\n",
    "            new_row.append(x2)\n",
    "            new_row.append(y2)\n",
    "            new_row.append(name)\n",
    "\n",
    "            image_annotations_train.append(new_row)\n",
    "        elif filename in test_data:\n",
    "            new_row.append(filename)\n",
    "            new_row.append(x1)\n",
    "            new_row.append(y1)\n",
    "            new_row.append(x2)\n",
    "            new_row.append(y2)\n",
    "            new_row.append(name)\n",
    "\n",
    "            image_annotations_test.append(new_row)\n",
    "        else:\n",
    "            new_row.append(filename)\n",
    "            new_row.append(x1)\n",
    "            new_row.append(y1)\n",
    "            new_row.append(x2)\n",
    "            new_row.append(y2)\n",
    "            new_row.append(name)\n",
    "\n",
    "            image_annotations_val.append(new_row)"
   ]
  },
  {
   "cell_type": "code",
   "execution_count": null,
   "id": "48a16e82",
   "metadata": {},
   "outputs": [],
   "source": [
    "print(len(image_annotations_train), len(image_annotations_test), len(image_annotations_val))\n",
    "print(len(image_annotations_train) + len(image_annotations_test) + len(image_annotations_val))"
   ]
  },
  {
   "cell_type": "code",
   "execution_count": null,
   "id": "bbf48e83",
   "metadata": {},
   "outputs": [],
   "source": [
    "# during training, these annotations must be in the same dir as the images being trained on\n",
    "with open('..\\Images\\Harbor_Seals_Full_Data\\harbor_test_annotations_full.csv', 'w', newline='') as fp:\n",
    "    writer = csv.writer(fp)\n",
    "    writer.writerows(image_annotations_test)\n",
    "    \n",
    "with open('..\\Images\\Harbor_Seals_Full_Data\\harbor_val_annotations_full.csv', 'w', newline='') as fp:\n",
    "    writer = csv.writer(fp)\n",
    "    writer.writerows(image_annotations_val)\n",
    "    \n",
    "with open('..\\Images\\Harbor_Seals_Full_Data\\harbor_train_annotations_full.csv', 'w', newline='') as fp:\n",
    "    writer = csv.writer(fp)\n",
    "    writer.writerows(image_annotations_train)"
   ]
  },
  {
   "cell_type": "code",
   "execution_count": null,
   "id": "36728074",
   "metadata": {},
   "outputs": [],
   "source": [
    "detection_classes = [[\"seal\", 0]]\n",
    "with open('../Images/Harbor_Seals_Full_Data/harbor_classes.csv', 'w') as fp:\n",
    "    writer = csv.writer(fp)\n",
    "    writer.writerows(detection_classes)"
   ]
  },
  {
   "cell_type": "code",
   "execution_count": null,
   "id": "3b3fcc0c",
   "metadata": {},
   "outputs": [],
   "source": []
  }
 ],
 "metadata": {
  "kernelspec": {
   "display_name": "Python 3",
   "language": "python",
   "name": "python3"
  },
  "language_info": {
   "codemirror_mode": {
    "name": "ipython",
    "version": 3
   },
   "file_extension": ".py",
   "mimetype": "text/x-python",
   "name": "python",
   "nbconvert_exporter": "python",
   "pygments_lexer": "ipython3",
   "version": "3.8.8"
  }
 },
 "nbformat": 4,
 "nbformat_minor": 5
}
