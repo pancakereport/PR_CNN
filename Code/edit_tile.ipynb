{
 "cells": [
  {
   "cell_type": "code",
   "execution_count": 2,
   "id": "b02e30bc",
   "metadata": {},
   "outputs": [],
   "source": [
    "#code taken from https://github.com/madelinehayes/seabirdNET/blob/master/uas_img_handler_FINAL.ipynb"
   ]
  },
  {
   "cell_type": "code",
   "execution_count": 3,
   "id": "200d52d1",
   "metadata": {},
   "outputs": [],
   "source": [
    "from PIL import Image\n",
    "import os\n",
    "from os import walk\n",
    "import argparse\n",
    "import numpy as np\n",
    "import json\n",
    "import csv\n",
    "import rasterio\n",
    "from rasterio.plot import reshape_as_image\n",
    "from rasterio.windows import Window\n",
    "import matplotlib\n",
    "import folium\n",
    "from pyproj import Proj, transform\n",
    "\n",
    "%matplotlib inline\n",
    "\n",
    "Image.MAX_IMAGE_PIXELS = 100000000000"
   ]
  },
  {
   "cell_type": "code",
   "execution_count": 4,
   "id": "dca78bd8",
   "metadata": {},
   "outputs": [],
   "source": [
    "def processImage(seal, image, overlap):\n",
    "    '''\n",
    "    args:\n",
    "    seal is a string, either \"Harbor_Seals\" or \"Elephant_Seals\"\n",
    "    image is the satellite image file\n",
    "    overlap is an int with the size of overlap between images\n",
    "    \n",
    "    '''\n",
    "    infile = '../Images/' + seal +'/' + image\n",
    "    img_dir = '../Images/' + seal + '_Tile'\n",
    "    prj_name = img_dir.split(\"/\")[-1]\n",
    "    \n",
    "    #open file (read), get dims\n",
    "    dataset = rasterio.open(infile)\n",
    "    img_height, img_width = dataset.shape\n",
    "    \n",
    "    # define tile size and number of pixels to move in each direction\n",
    "    tile_height = tile_width = 500\n",
    "    stride = tile_height - overlap\n",
    "    start_num = 0\n",
    "    img_dict = {}\n",
    "    count = 0\n",
    "    \n",
    "    # create the dir if it doesn't already exist\n",
    "    if not os.path.exists(img_dir):\n",
    "        os.makedirs(img_dir)\n",
    "        \n",
    "    num_tiles = (img_width * img_height) / ((tile_height - overlap) * (tile_width - overlap))\n",
    "    print(\"image size\", dataset.shape)\n",
    "    print(\"number of tiles:\", num_tiles)\n",
    "    print(\"image height: \", img_height)\n",
    "    print(\"max height\", img_height-tile_height+1)\n",
    "    print(\"image width: \", img_width)\n",
    "    print(\"max width\", img_width-tile_width+1)\n",
    "    \n",
    "    for r in range(0, img_height-tile_height+1, stride):\n",
    "        print(r)\n",
    "        for c in range(0, img_width-tile_width+1, stride):\n",
    "            # read tile\n",
    "            #print(c, r)\n",
    "            tile = dataset.read((1,2,3),window=Window(c, r, tile_width, tile_height))\n",
    "            \n",
    "            reshaped_tile = reshape_as_image(tile)\n",
    "            \n",
    "            top_pixel = [c,r]\n",
    "            name = image.split(\".\")[0]\n",
    "            tile_name = name + \"---\" + str(count) + \".png\"\n",
    "            img_dict[tile_name] = top_pixel\n",
    "            \n",
    "            im = Image.fromarray(reshaped_tile)\n",
    "            #save \n",
    "            path = os.path.join(img_dir, tile_name)\n",
    "            im.save(path)\n",
    "            \n",
    "            count += 1\n",
    "            \n",
    "    '''\n",
    "    not sure if the following is necessary...\n",
    "    \n",
    "    full_dict = {\"image_name\" : infile,\n",
    "            \"image_locations\" : img_dict,\n",
    "             \"crs\" : str(dataset.crs)\n",
    "            }\n",
    "    with open(img_dir + '/lastLine.json', 'w') as fp:\n",
    "        json.dump(full_dict, fp)\n",
    "    '''"
   ]
  },
  {
   "cell_type": "code",
   "execution_count": 10,
   "id": "07c432d6",
   "metadata": {},
   "outputs": [
    {
     "name": "stdout",
     "output_type": "stream",
     "text": [
      "image size (3352, 4800)\n",
      "number of tiles: 83.10743801652893\n",
      "image height:  3352\n",
      "max height 2853\n",
      "image width:  4800\n",
      "max width 4301\n",
      "0\n",
      "440\n",
      "880\n",
      "1320\n",
      "1760\n",
      "2200\n",
      "2640\n"
     ]
    }
   ],
   "source": [
    "image = files[0]\n",
    "processImage(seal, image, overlap)"
   ]
  },
  {
   "cell_type": "code",
   "execution_count": 6,
   "id": "fd5314c8",
   "metadata": {},
   "outputs": [],
   "source": [
    "seal = 'Harbor_Seals'\n",
    "#seal = 'Elephant_Seals'\n",
    "\n",
    "sealPath = '../Images/' + seal\n",
    "\n",
    "if seal == 'Harbor_Seals':\n",
    "    overlap = 60\n",
    "elif seal == 'Elephant_Seals':\n",
    "    overlap = 80"
   ]
  },
  {
   "cell_type": "code",
   "execution_count": 7,
   "id": "78d1c080",
   "metadata": {},
   "outputs": [],
   "source": [
    "files = next(walk(sealPath), (None, None, []))[2]  # empty if no files exist\n",
    "#print(files)"
   ]
  },
  {
   "cell_type": "code",
   "execution_count": 8,
   "id": "7fbfef0b",
   "metadata": {},
   "outputs": [
    {
     "data": {
      "text/plain": [
       "\"\\ncountI = 1\\nfor image in files:\\n    processImage(seal, image, overlap)\\n    print('finished image', countI)\\n    countI += 1\\n\""
      ]
     },
     "execution_count": 8,
     "metadata": {},
     "output_type": "execute_result"
    }
   ],
   "source": [
    "'''\n",
    "countI = 1\n",
    "for image in files:\n",
    "    processImage(seal, image, overlap)\n",
    "    print('finished image', countI)\n",
    "    countI += 1\n",
    "'''"
   ]
  },
  {
   "cell_type": "code",
   "execution_count": 9,
   "id": "2bfc8afc",
   "metadata": {},
   "outputs": [
    {
     "name": "stdout",
     "output_type": "stream",
     "text": [
      "1\n"
     ]
    },
    {
     "name": "stderr",
     "output_type": "stream",
     "text": [
      "C:\\Users\\mgiff\\anaconda3\\envs\\rasterio\\lib\\site-packages\\rasterio\\__init__.py:220: NotGeoreferencedWarning: Dataset has no geotransform, gcps, or rpcs. The identity matrix be returned.\n",
      "  s = DatasetReader(path, driver=driver, sharing=sharing, **kwargs)\n"
     ]
    }
   ],
   "source": [
    "def checkImageSize(seal, image):\n",
    "    infile = '../Images/' + seal +'/' + image\n",
    "    dataset = rasterio.open(infile)\n",
    "    img_height, img_width = dataset.shape\n",
    "    return img_height, img_width\n",
    "    \n",
    "    \n",
    "sizes = set()\n",
    "for image in files:\n",
    "    size = checkImageSize(seal, image)\n",
    "    sizes.add(size)\n",
    "    \n",
    "print(len(sizes))"
   ]
  },
  {
   "cell_type": "code",
   "execution_count": null,
   "id": "1cc75404",
   "metadata": {},
   "outputs": [],
   "source": []
  }
 ],
 "metadata": {
  "kernelspec": {
   "display_name": "Python 3 (ipykernel)",
   "language": "python",
   "name": "python3"
  },
  "language_info": {
   "codemirror_mode": {
    "name": "ipython",
    "version": 3
   },
   "file_extension": ".py",
   "mimetype": "text/x-python",
   "name": "python",
   "nbconvert_exporter": "python",
   "pygments_lexer": "ipython3",
   "version": "3.10.4"
  }
 },
 "nbformat": 4,
 "nbformat_minor": 5
}
