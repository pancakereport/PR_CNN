{
 "cells": [
  {
   "cell_type": "code",
   "execution_count": 49,
   "id": "cda69948",
   "metadata": {},
   "outputs": [],
   "source": [
    "#code taken from https://github.com/madelinehayes/seabirdNET/blob/master/via_to_retinanet_FINAL.ipynb"
   ]
  },
  {
   "cell_type": "code",
   "execution_count": 50,
   "id": "5988e512",
   "metadata": {},
   "outputs": [],
   "source": [
    "import os\n",
    "import argparse\n",
    "import random\n",
    "import numpy as np\n",
    "import json\n",
    "import csv\n",
    "import sys\n",
    "import pandas as pd"
   ]
  },
  {
   "cell_type": "code",
   "execution_count": 51,
   "id": "16f24901",
   "metadata": {},
   "outputs": [],
   "source": [
    "path = '../Images/Elephant_Seals_Beach_Only'\n",
    "image_list = [f for f in os.listdir(path) if f.endswith('.png')]"
   ]
  },
  {
   "cell_type": "code",
   "execution_count": 52,
   "id": "4d6c894b",
   "metadata": {},
   "outputs": [
    {
     "name": "stdout",
     "output_type": "stream",
     "text": [
      "1741\n",
      "174 156 1411\n"
     ]
    }
   ],
   "source": [
    "#shuffle image list and split into training, testing, validation\n",
    "random.shuffle(image_list)\n",
    "total_count = len(image_list)\n",
    "\n",
    "print(total_count)\n",
    "\n",
    "#80-10-10\n",
    "test_index = int(total_count*.1)\n",
    "val_index = int(total_count*.9*.1) + test_index\n",
    "\n",
    "test_data = image_list[:test_index]\n",
    "val_data = image_list[test_index:val_index]\n",
    "train_data = image_list[val_index:]\n",
    "\n",
    "print(len(test_data), len(val_data), len(train_data))"
   ]
  },
  {
   "cell_type": "code",
   "execution_count": 53,
   "id": "ec2ecf7e",
   "metadata": {},
   "outputs": [],
   "source": [
    "#Because there are so many images and I wanted to save my annotations intermittantly, I have multiple csv files. \n",
    "#combine them here\n",
    "eseal_csv_path = '../Data/Elephant_Seal_Anno_csv/combined_csv.csv'\n",
    "out = open(eseal_csv_path, 'w')\n",
    "\n",
    "csvPath = '../Data/Elephant_Seal_Anno_csv'\n",
    "all_csv = [csvPath + '/' + i for i in os.listdir(csvPath) if i.endswith('.csv')]\n",
    "\n",
    "for c in all_csv:\n",
    "    f = open(c)\n",
    "    text = f.read()\n",
    "    out.write(text)"
   ]
  },
  {
   "cell_type": "code",
   "execution_count": 62,
   "id": "75cb8a1f",
   "metadata": {},
   "outputs": [],
   "source": [
    "via_path = eseal_csv_path = '../Data/Elephant_Seal_Anno_csv/combined_csv.csv'\n",
    "\n",
    "image_annotations_train1 = []\n",
    "image_annotations_test1 = []\n",
    "image_annotations_val1 = []\n",
    "\n",
    "cow = 0\n",
    "bull = 0\n",
    "pup = 0\n",
    "\n",
    "\n",
    "\n",
    "anno_dict = {\"0\":\"cow\",\"1\":\"bull\",\"2\":\"pup\"}\n",
    "\n",
    "with open(via_path, \"r\") as f:\n",
    "    reader = csv.reader(f, delimiter=\",\")\n",
    "    for line in reader: \n",
    "        # output we want\n",
    "        # path/to/image.jpg,x1,y1,x2,y2,class_name\n",
    "        # /data/imgs/img_001.jpg,837,346,981,456,cow\n",
    "        if '#' in line[0][0]:\n",
    "            # bypassing comments in csv\n",
    "            continue\n",
    "        filename = line[1][2:-2]\n",
    "        # strip brackets, split and get only the values we care about, then convert all the string to int \n",
    "        coords = list(map(int,list(map(float, line[4].strip('][').split(',')[1:]))))\n",
    "        if len(coords) != 4:\n",
    "            print('bad annotation')\n",
    "            continue\n",
    "            \n",
    "        top_left_x, top_left_y, width, height = list(map(int,list(map(float, line[4].strip('][').split(',')[1:]))))\n",
    "\n",
    "        if width == 0 or height == 0:\n",
    "            continue\n",
    "        # move from top left and width/height to x and y values\n",
    "        if top_left_x < 0:\n",
    "            top_left_x = 1\n",
    "        if top_left_y < 0:\n",
    "            top_left_y = 1\n",
    "        x1 = top_left_x\n",
    "        x2 = top_left_x + width\n",
    "        y1 = top_left_y\n",
    "        y2 = top_left_y + height \n",
    "        \n",
    "        if x2 > 500:\n",
    "            x2 = 500\n",
    "        if y2 > 500:\n",
    "            y2 = 500\n",
    "\n",
    "        #print(line[5])\n",
    "        if len(line[5]) > 2:\n",
    "            var = line[5]\n",
    "            if '#' in var:\n",
    "                var = var.split('#')[0]\n",
    "            anno = json.loads(var)\n",
    "            n = anno['1']\n",
    "            name = anno_dict[n]\n",
    "            if name == \"cow\":\n",
    "                cow += 1\n",
    "            if name== \"bull\":\n",
    "                bull += 1\n",
    "            if name == \"pup\":\n",
    "                pup += 1\n",
    "        else:\n",
    "            print(\"seal not labeled\" + filename)\n",
    "\n",
    "        # create the csv row\n",
    "        new_row = []\n",
    "        if filename in train_data:\n",
    "            new_row.append(filename)\n",
    "            new_row.append(x1)\n",
    "            new_row.append(y1)\n",
    "            new_row.append(x2)\n",
    "            new_row.append(y2)\n",
    "            new_row.append(name)\n",
    "\n",
    "            image_annotations_train1.append(new_row)\n",
    "        elif filename in test_data:\n",
    "            new_row.append(filename)\n",
    "            new_row.append(x1)\n",
    "            new_row.append(y1)\n",
    "            new_row.append(x2)\n",
    "            new_row.append(y2)\n",
    "            new_row.append(name)\n",
    "\n",
    "            image_annotations_test1.append(new_row)\n",
    "        else:\n",
    "            new_row.append(filename)\n",
    "            new_row.append(x1)\n",
    "            new_row.append(y1)\n",
    "            new_row.append(x2)\n",
    "            new_row.append(y2)\n",
    "            new_row.append(name)\n",
    "\n",
    "            image_annotations_val1.append(new_row)"
   ]
  },
  {
   "cell_type": "code",
   "execution_count": 63,
   "id": "89c73e33",
   "metadata": {},
   "outputs": [
    {
     "name": "stdout",
     "output_type": "stream",
     "text": [
      "3454 688 6602\n"
     ]
    }
   ],
   "source": [
    "print(cow, bull, pup)"
   ]
  },
  {
   "cell_type": "code",
   "execution_count": 55,
   "id": "48a16e82",
   "metadata": {},
   "outputs": [
    {
     "name": "stdout",
     "output_type": "stream",
     "text": [
      "8568 1128 1048\n"
     ]
    }
   ],
   "source": [
    "print(len(image_annotations_train), len(image_annotations_test), len(image_annotations_val))"
   ]
  },
  {
   "cell_type": "code",
   "execution_count": 56,
   "id": "bbf48e83",
   "metadata": {},
   "outputs": [],
   "source": [
    "with open('..\\Images\\Elephant_Seals_Beach_Only\\elephant_test_annotations.csv', 'w', newline='') as fp:\n",
    "    writer = csv.writer(fp)\n",
    "    writer.writerows(image_annotations_test)\n",
    "    \n",
    "with open('..\\Images\\Elephant_Seals_Beach_Only\\elephant_val_annotations.csv', 'w', newline='') as fp:\n",
    "    writer = csv.writer(fp)\n",
    "    writer.writerows(image_annotations_val)\n",
    "    \n",
    "with open('..\\Images\\Elephant_Seals_Beach_Only\\elephant_train_annotations.csv', 'w', newline='') as fp:\n",
    "    writer = csv.writer(fp)\n",
    "    writer.writerows(image_annotations_train)"
   ]
  },
  {
   "cell_type": "code",
   "execution_count": 57,
   "id": "36728074",
   "metadata": {},
   "outputs": [],
   "source": [
    "#detection_classes = [[\"seal\", 0]]\n",
    "#with open('../Images/Elephant_Seals_Beach_Only/elephant_classes.csv', 'w') as fp:\n",
    "#    writer = csv.writer(fp)\n",
    "#    writer.writerows(detection_classes)"
   ]
  },
  {
   "cell_type": "code",
   "execution_count": 58,
   "id": "7f93d79a",
   "metadata": {},
   "outputs": [
    {
     "name": "stdout",
     "output_type": "stream",
     "text": [
      "10744\n"
     ]
    }
   ],
   "source": [
    "image_annotations_test.extend(image_annotations_val)\n",
    "image_annotations_test.extend(image_annotations_train)\n",
    "print(len(image_annotations_test))"
   ]
  },
  {
   "cell_type": "code",
   "execution_count": 59,
   "id": "72c92f1c",
   "metadata": {},
   "outputs": [],
   "source": [
    "with open('../Data/elephant_full_annotations.csv', 'w', newline='') as fp:\n",
    "    writer = csv.writer(fp)\n",
    "    writer.writerows(image_annotations_test)"
   ]
  },
  {
   "cell_type": "code",
   "execution_count": 67,
   "id": "71e05929",
   "metadata": {},
   "outputs": [
    {
     "name": "stdout",
     "output_type": "stream",
     "text": [
      "6\n"
     ]
    },
    {
     "data": {
      "text/plain": [
       "566"
      ]
     },
     "execution_count": 67,
     "metadata": {},
     "output_type": "execute_result"
    }
   ],
   "source": [
    "#print(len(image_annotations_train[0]))\n",
    "btr = [x for x in image_annotations_train if x[5] == 'bull']\n",
    "len(btr)"
   ]
  },
  {
   "cell_type": "code",
   "execution_count": 71,
   "id": "b4be050d",
   "metadata": {},
   "outputs": [
    {
     "data": {
      "text/plain": [
       "2746"
      ]
     },
     "execution_count": 71,
     "metadata": {},
     "output_type": "execute_result"
    }
   ],
   "source": [
    "ctr = [x for x in image_annotations_train if x[5] == 'cow']\n",
    "len(ctr)\n"
   ]
  },
  {
   "cell_type": "code",
   "execution_count": 70,
   "id": "43d211e9",
   "metadata": {},
   "outputs": [
    {
     "data": {
      "text/plain": [
       "5256"
      ]
     },
     "execution_count": 70,
     "metadata": {},
     "output_type": "execute_result"
    }
   ],
   "source": [
    "ptr = [x for x in image_annotations_train if x[5] == 'pup']\n",
    "len(ptr)"
   ]
  },
  {
   "cell_type": "code",
   "execution_count": 72,
   "id": "8169c4e3",
   "metadata": {},
   "outputs": [
    {
     "data": {
      "text/plain": [
       "48"
      ]
     },
     "execution_count": 72,
     "metadata": {},
     "output_type": "execute_result"
    }
   ],
   "source": [
    "668-566-54"
   ]
  },
  {
   "cell_type": "code",
   "execution_count": 73,
   "id": "12cc0082",
   "metadata": {},
   "outputs": [
    {
     "data": {
      "text/plain": [
       "474"
      ]
     },
     "execution_count": 73,
     "metadata": {},
     "output_type": "execute_result"
    }
   ],
   "source": [
    "3454-2746-234\n"
   ]
  },
  {
   "cell_type": "code",
   "execution_count": 74,
   "id": "cf52c486",
   "metadata": {},
   "outputs": [
    {
     "data": {
      "text/plain": [
       "952"
      ]
     },
     "execution_count": 74,
     "metadata": {},
     "output_type": "execute_result"
    }
   ],
   "source": [
    "6602-5256-394"
   ]
  },
  {
   "cell_type": "code",
   "execution_count": null,
   "id": "c6a723fb",
   "metadata": {},
   "outputs": [],
   "source": []
  }
 ],
 "metadata": {
  "kernelspec": {
   "display_name": "Python 3",
   "language": "python",
   "name": "python3"
  },
  "language_info": {
   "codemirror_mode": {
    "name": "ipython",
    "version": 3
   },
   "file_extension": ".py",
   "mimetype": "text/x-python",
   "name": "python",
   "nbconvert_exporter": "python",
   "pygments_lexer": "ipython3",
   "version": "3.8.8"
  }
 },
 "nbformat": 4,
 "nbformat_minor": 5
}
