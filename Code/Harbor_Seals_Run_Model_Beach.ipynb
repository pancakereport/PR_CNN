{
 "cells": [
  {
   "cell_type": "code",
   "execution_count": null,
   "id": "6102fe21",
   "metadata": {},
   "outputs": [],
   "source": [
    "#concern with the config.ini file\n",
    "# why is it only running 17 epochs?\n",
    "# how big can the steps be?"
   ]
  },
  {
   "cell_type": "code",
   "execution_count": 1,
   "id": "a7759e36",
   "metadata": {
    "scrolled": true
   },
   "outputs": [
    {
     "name": "stdout",
     "output_type": "stream",
     "text": [
      "pre parse\n",
      "post arg\n",
      "post generator\n",
      "Creating model, this may take a second...\n"
     ]
    },
    {
     "name": "stderr",
     "output_type": "stream",
     "text": [
      "Using TensorFlow backend.\n"
     ]
    },
    {
     "name": "stdout",
     "output_type": "stream",
     "text": [
      "WARNING:tensorflow:Skipping loading of weights for layer classification_submodel due to mismatch in shape ((3, 3, 256, 9) vs (3, 3, 256, 720)).\n",
      "WARNING:tensorflow:Skipping loading of weights for layer classification_submodel due to mismatch in shape ((9,) vs (720,)).\n",
      "model summary here\n",
      "start training\n",
      "WARNING:tensorflow:From C:\\Users\\mgiff\\thesis\\PR_CNN\\PR_CNN\\keras-retinanet\\keras_retinanet\\bin\\train.py:564: Model.fit_generator (from tensorflow.python.keras.engine.training) is deprecated and will be removed in a future version.\n",
      "Instructions for updating:\n",
      "Please use Model.fit, which supports generators.\n",
      "Epoch 1/30\n",
      "30/30 [==============================] - ETA: 0s - loss: 3.5189 - regression_loss: 2.3977 - classification_loss: 1.1211"
     ]
    },
    {
     "name": "stderr",
     "output_type": "stream",
     "text": [
      "Running network: 100% (13 of 13) |#######| Elapsed Time: 0:00:18 Time:  0:00:18\n",
      "Parsing annotations: 100% (13 of 13) |###| Elapsed Time: 0:00:00 Time:  0:00:00\n"
     ]
    },
    {
     "name": "stdout",
     "output_type": "stream",
     "text": [
      "147 instances of class seal with average precision: 0.0068\n",
      "mAP: 0.0068\n",
      "\n",
      "Epoch 00001: saving model to ..\\Data\\Habor_Beach\\resnet50_csv_01.h5\n",
      "30/30 [==============================] - 272s 9s/step - loss: 3.5189 - regression_loss: 2.3977 - classification_loss: 1.1211\n",
      "Epoch 2/30\n",
      "30/30 [==============================] - ETA: 0s - loss: 3.1181 - regression_loss: 2.0567 - classification_loss: 1.0614"
     ]
    },
    {
     "name": "stderr",
     "output_type": "stream",
     "text": [
      "Running network: 100% (13 of 13) |#######| Elapsed Time: 0:00:18 Time:  0:00:18\n",
      "Parsing annotations: 100% (13 of 13) |###| Elapsed Time: 0:00:00 Time:  0:00:00\n"
     ]
    },
    {
     "name": "stdout",
     "output_type": "stream",
     "text": [
      "147 instances of class seal with average precision: 0.0918\n",
      "mAP: 0.0918\n",
      "\n",
      "Epoch 00002: saving model to ..\\Data\\Habor_Beach\\resnet50_csv_02.h5\n",
      "30/30 [==============================] - 290s 10s/step - loss: 3.1181 - regression_loss: 2.0567 - classification_loss: 1.0614\n",
      "Epoch 3/30\n",
      "30/30 [==============================] - ETA: 0s - loss: 2.8258 - regression_loss: 1.9118 - classification_loss: 0.9140"
     ]
    },
    {
     "name": "stderr",
     "output_type": "stream",
     "text": [
      "Running network: 100% (13 of 13) |#######| Elapsed Time: 0:00:18 Time:  0:00:18\n",
      "Parsing annotations: 100% (13 of 13) |###| Elapsed Time: 0:00:00 Time:  0:00:00\n"
     ]
    },
    {
     "name": "stdout",
     "output_type": "stream",
     "text": [
      "147 instances of class seal with average precision: 0.1419\n",
      "mAP: 0.1419\n",
      "\n",
      "Epoch 00003: saving model to ..\\Data\\Habor_Beach\\resnet50_csv_03.h5\n",
      "30/30 [==============================] - 298s 10s/step - loss: 2.8258 - regression_loss: 1.9118 - classification_loss: 0.9140\n",
      "Epoch 4/30\n",
      "30/30 [==============================] - ETA: 0s - loss: 2.5298 - regression_loss: 1.8382 - classification_loss: 0.6916"
     ]
    },
    {
     "name": "stderr",
     "output_type": "stream",
     "text": [
      "Running network: 100% (13 of 13) |#######| Elapsed Time: 0:00:19 Time:  0:00:19\n",
      "Parsing annotations: 100% (13 of 13) |###| Elapsed Time: 0:00:00 Time:  0:00:00\n"
     ]
    },
    {
     "name": "stdout",
     "output_type": "stream",
     "text": [
      "147 instances of class seal with average precision: 0.1973\n",
      "mAP: 0.1973\n",
      "\n",
      "Epoch 00004: saving model to ..\\Data\\Habor_Beach\\resnet50_csv_04.h5\n",
      "30/30 [==============================] - 310s 10s/step - loss: 2.5298 - regression_loss: 1.8382 - classification_loss: 0.6916\n",
      "Epoch 5/30\n",
      "30/30 [==============================] - ETA: 0s - loss: 2.4491 - regression_loss: 1.8938 - classification_loss: 0.5553"
     ]
    },
    {
     "name": "stderr",
     "output_type": "stream",
     "text": [
      "Running network: 100% (13 of 13) |#######| Elapsed Time: 0:00:19 Time:  0:00:19\n",
      "Parsing annotations: 100% (13 of 13) |###| Elapsed Time: 0:00:00 Time:  0:00:00\n"
     ]
    },
    {
     "name": "stdout",
     "output_type": "stream",
     "text": [
      "147 instances of class seal with average precision: 0.3886\n",
      "mAP: 0.3886\n",
      "\n",
      "Epoch 00005: saving model to ..\\Data\\Habor_Beach\\resnet50_csv_05.h5\n",
      "30/30 [==============================] - 310s 10s/step - loss: 2.4491 - regression_loss: 1.8938 - classification_loss: 0.5553\n",
      "Epoch 6/30\n",
      "30/30 [==============================] - ETA: 0s - loss: 2.1895 - regression_loss: 1.7735 - classification_loss: 0.4160"
     ]
    },
    {
     "name": "stderr",
     "output_type": "stream",
     "text": [
      "Running network: 100% (13 of 13) |#######| Elapsed Time: 0:00:14 Time:  0:00:14\n",
      "Parsing annotations: 100% (13 of 13) |###| Elapsed Time: 0:00:00 Time:  0:00:00\n"
     ]
    },
    {
     "name": "stdout",
     "output_type": "stream",
     "text": [
      "147 instances of class seal with average precision: 0.4846\n",
      "mAP: 0.4846\n",
      "\n",
      "Epoch 00006: saving model to ..\\Data\\Habor_Beach\\resnet50_csv_06.h5\n",
      "30/30 [==============================] - 819s 27s/step - loss: 2.1895 - regression_loss: 1.7735 - classification_loss: 0.4160\n",
      "Epoch 7/30\n",
      "30/30 [==============================] - ETA: 0s - loss: 2.1170 - regression_loss: 1.7392 - classification_loss: 0.3778"
     ]
    },
    {
     "name": "stderr",
     "output_type": "stream",
     "text": [
      "Running network: 100% (13 of 13) |#######| Elapsed Time: 0:00:17 Time:  0:00:17\n",
      "Parsing annotations: 100% (13 of 13) |###| Elapsed Time: 0:00:00 Time:  0:00:00\n"
     ]
    },
    {
     "name": "stdout",
     "output_type": "stream",
     "text": [
      "147 instances of class seal with average precision: 0.5094\n",
      "mAP: 0.5094\n",
      "\n",
      "Epoch 00007: saving model to ..\\Data\\Habor_Beach\\resnet50_csv_07.h5\n",
      "30/30 [==============================] - 268s 9s/step - loss: 2.1170 - regression_loss: 1.7392 - classification_loss: 0.3778\n",
      "Epoch 8/30\n",
      "30/30 [==============================] - ETA: 0s - loss: 2.1068 - regression_loss: 1.7152 - classification_loss: 0.3916"
     ]
    },
    {
     "name": "stderr",
     "output_type": "stream",
     "text": [
      "Running network: 100% (13 of 13) |#######| Elapsed Time: 0:00:18 Time:  0:00:18\n",
      "Parsing annotations: 100% (13 of 13) |###| Elapsed Time: 0:00:00 Time:  0:00:00\n"
     ]
    },
    {
     "name": "stdout",
     "output_type": "stream",
     "text": [
      "147 instances of class seal with average precision: 0.5509\n",
      "mAP: 0.5509\n",
      "\n",
      "Epoch 00008: saving model to ..\\Data\\Habor_Beach\\resnet50_csv_08.h5\n",
      "30/30 [==============================] - 300s 10s/step - loss: 2.1068 - regression_loss: 1.7152 - classification_loss: 0.3916\n",
      "Epoch 9/30\n",
      "30/30 [==============================] - ETA: 0s - loss: 2.0849 - regression_loss: 1.7090 - classification_loss: 0.3759 "
     ]
    },
    {
     "name": "stderr",
     "output_type": "stream",
     "text": [
      "Running network: 100% (13 of 13) |#######| Elapsed Time: 0:00:18 Time:  0:00:18\n",
      "Parsing annotations: 100% (13 of 13) |###| Elapsed Time: 0:00:00 Time:  0:00:00\n"
     ]
    },
    {
     "name": "stdout",
     "output_type": "stream",
     "text": [
      "147 instances of class seal with average precision: 0.5980\n",
      "mAP: 0.5980\n",
      "\n",
      "Epoch 00009: saving model to ..\\Data\\Habor_Beach\\resnet50_csv_09.h5\n",
      "30/30 [==============================] - 409s 14s/step - loss: 2.0849 - regression_loss: 1.7090 - classification_loss: 0.3759\n",
      "Epoch 10/30\n",
      "30/30 [==============================] - ETA: 0s - loss: 1.9156 - regression_loss: 1.5719 - classification_loss: 0.3437"
     ]
    },
    {
     "name": "stderr",
     "output_type": "stream",
     "text": [
      "Running network: 100% (13 of 13) |#######| Elapsed Time: 0:00:19 Time:  0:00:19\n",
      "Parsing annotations: 100% (13 of 13) |###| Elapsed Time: 0:00:00 Time:  0:00:00\n"
     ]
    },
    {
     "name": "stdout",
     "output_type": "stream",
     "text": [
      "147 instances of class seal with average precision: 0.6285\n",
      "mAP: 0.6285\n",
      "\n",
      "Epoch 00010: saving model to ..\\Data\\Habor_Beach\\resnet50_csv_10.h5\n",
      "30/30 [==============================] - 305s 10s/step - loss: 1.9156 - regression_loss: 1.5719 - classification_loss: 0.3437\n",
      "Epoch 11/30\n",
      "30/30 [==============================] - ETA: 0s - loss: 2.0314 - regression_loss: 1.6932 - classification_loss: 0.3382 "
     ]
    },
    {
     "name": "stderr",
     "output_type": "stream",
     "text": [
      "Running network: 100% (13 of 13) |#######| Elapsed Time: 0:00:15 Time:  0:00:15\n",
      "Parsing annotations: 100% (13 of 13) |###| Elapsed Time: 0:00:00 Time:  0:00:00\n"
     ]
    },
    {
     "name": "stdout",
     "output_type": "stream",
     "text": [
      "147 instances of class seal with average precision: 0.6670\n",
      "mAP: 0.6670\n",
      "\n",
      "Epoch 00011: saving model to ..\\Data\\Habor_Beach\\resnet50_csv_11.h5\n",
      "30/30 [==============================] - 594s 20s/step - loss: 2.0314 - regression_loss: 1.6932 - classification_loss: 0.3382\n",
      "Epoch 12/30\n",
      "30/30 [==============================] - ETA: 0s - loss: 2.0013 - regression_loss: 1.6558 - classification_loss: 0.3455"
     ]
    },
    {
     "name": "stderr",
     "output_type": "stream",
     "text": [
      "Running network: 100% (13 of 13) |#######| Elapsed Time: 0:00:17 Time:  0:00:17\n",
      "Parsing annotations: 100% (13 of 13) |###| Elapsed Time: 0:00:00 Time:  0:00:00\n"
     ]
    },
    {
     "name": "stdout",
     "output_type": "stream",
     "text": [
      "147 instances of class seal with average precision: 0.6122\n",
      "mAP: 0.6122\n",
      "\n",
      "Epoch 00012: saving model to ..\\Data\\Habor_Beach\\resnet50_csv_12.h5\n",
      "\n",
      "Epoch 00012: ReduceLROnPlateau reducing learning rate to 9.999999747378752e-07.\n",
      "30/30 [==============================] - 285s 9s/step - loss: 2.0013 - regression_loss: 1.6558 - classification_loss: 0.3455\n",
      "Epoch 13/30\n",
      "30/30 [==============================] - ETA: 0s - loss: 1.9753 - regression_loss: 1.6537 - classification_loss: 0.3216 "
     ]
    },
    {
     "name": "stderr",
     "output_type": "stream",
     "text": [
      "Running network: 100% (13 of 13) |#######| Elapsed Time: 0:00:14 Time:  0:00:14\n",
      "Parsing annotations: 100% (13 of 13) |###| Elapsed Time: 0:00:00 Time:  0:00:00\n"
     ]
    },
    {
     "name": "stdout",
     "output_type": "stream",
     "text": [
      "147 instances of class seal with average precision: 0.6355\n",
      "mAP: 0.6355\n",
      "\n",
      "Epoch 00013: saving model to ..\\Data\\Habor_Beach\\resnet50_csv_13.h5\n",
      "30/30 [==============================] - 526s 18s/step - loss: 1.9753 - regression_loss: 1.6537 - classification_loss: 0.3216\n",
      "Epoch 14/30\n",
      "30/30 [==============================] - ETA: 0s - loss: 1.9436 - regression_loss: 1.6355 - classification_loss: 0.3081"
     ]
    },
    {
     "name": "stderr",
     "output_type": "stream",
     "text": [
      "Running network: 100% (13 of 13) |#######| Elapsed Time: 0:00:25 Time:  0:00:25\n",
      "Parsing annotations: 100% (13 of 13) |###| Elapsed Time: 0:00:00 Time:  0:00:00\n"
     ]
    },
    {
     "name": "stdout",
     "output_type": "stream",
     "text": [
      "147 instances of class seal with average precision: 0.6567\n",
      "mAP: 0.6567\n",
      "\n",
      "Epoch 00014: saving model to ..\\Data\\Habor_Beach\\resnet50_csv_14.h5\n",
      "\n",
      "Epoch 00014: ReduceLROnPlateau reducing learning rate to 9.999999974752428e-08.\n",
      "30/30 [==============================] - 303s 10s/step - loss: 1.9436 - regression_loss: 1.6355 - classification_loss: 0.3081\n",
      "Epoch 15/30\n",
      "30/30 [==============================] - ETA: 0s - loss: 1.9799 - regression_loss: 1.6453 - classification_loss: 0.3346 "
     ]
    },
    {
     "name": "stderr",
     "output_type": "stream",
     "text": [
      "Running network: 100% (13 of 13) |#######| Elapsed Time: 0:00:36 Time:  0:00:36\n",
      "Parsing annotations: 100% (13 of 13) |###| Elapsed Time: 0:00:00 Time:  0:00:00\n"
     ]
    },
    {
     "name": "stdout",
     "output_type": "stream",
     "text": [
      "147 instances of class seal with average precision: 0.6586\n",
      "mAP: 0.6586\n",
      "\n",
      "Epoch 00015: saving model to ..\\Data\\Habor_Beach\\resnet50_csv_15.h5\n",
      "30/30 [==============================] - 581s 19s/step - loss: 1.9799 - regression_loss: 1.6453 - classification_loss: 0.3346\n",
      "Epoch 16/30\n",
      "30/30 [==============================] - ETA: 0s - loss: 1.9388 - regression_loss: 1.6232 - classification_loss: 0.3156 "
     ]
    },
    {
     "name": "stderr",
     "output_type": "stream",
     "text": [
      "Running network: 100% (13 of 13) |#######| Elapsed Time: 0:00:19 Time:  0:00:19\n",
      "Parsing annotations: 100% (13 of 13) |###| Elapsed Time: 0:00:00 Time:  0:00:00\n"
     ]
    },
    {
     "name": "stdout",
     "output_type": "stream",
     "text": [
      "147 instances of class seal with average precision: 0.6594\n",
      "mAP: 0.6594\n",
      "\n",
      "Epoch 00016: saving model to ..\\Data\\Habor_Beach\\resnet50_csv_16.h5\n",
      "\n",
      "Epoch 00016: ReduceLROnPlateau reducing learning rate to 1.0000000116860975e-08.\n",
      "30/30 [==============================] - 434s 14s/step - loss: 1.9388 - regression_loss: 1.6232 - classification_loss: 0.3156\n"
     ]
    }
   ],
   "source": [
    "%run \"../keras-retinanet/keras_retinanet/bin/train.py\" --weights ../keras-retinanet/Models/resnet50_coco_best_v2.1.0.h5 \\\n",
    "--batch-size 2 --steps 30 --epochs 30 \\\n",
    "--snapshot-path ..\\Data\\Habor_Beach \\\n",
    "--random-transform \\\n",
    "--config harbor_config.ini \\\n",
    "csv ../Images/Harbor_Seals_Beach_Only/harbor_train_annotations.csv ../Images/Harbor_Seals_Beach_Only/harbor_classes.csv \\\n",
    "--val-annotations ../Images/Harbor_Seals_Beach_Only/harbor_val_annotations.csv"
   ]
  },
  {
   "cell_type": "code",
   "execution_count": 3,
   "id": "3c726531",
   "metadata": {},
   "outputs": [],
   "source": [
    "#first arg is the model to convert, second is the path to save the model to\n",
    "%run \"../keras-retinanet/keras_retinanet/bin/convert_model.py\" --config harbor_config.ini ../Data/Habor_Beach/resnet50_csv_16.h5 ../Data/final_model_harbor_seal_beach_only_best.h5.h5"
   ]
  },
  {
   "cell_type": "code",
   "execution_count": 6,
   "id": "703b1ac1",
   "metadata": {},
   "outputs": [
    {
     "name": "stdout",
     "output_type": "stream",
     "text": [
      "Loading model, this may take a second...\n",
      "WARNING:tensorflow:No training configuration found in the save file, so the model was *not* compiled. Compile it manually.\n"
     ]
    },
    {
     "name": "stderr",
     "output_type": "stream",
     "text": [
      "Running network: 100% (18 of 18) |#######| Elapsed Time: 0:01:09 Time:  0:01:09\n",
      "Parsing annotations: 100% (18 of 18) |###| Elapsed Time: 0:00:00 Time:  0:00:00\n"
     ]
    },
    {
     "name": "stdout",
     "output_type": "stream",
     "text": [
      "148 instances of class seal with average precision: 0.4472\n",
      "Inference time for 18 images: 3.7309\n",
      "mAP using the weighted average of precisions among classes: 0.4472\n",
      "mAP: 0.4472\n"
     ]
    }
   ],
   "source": [
    "##TEST\n",
    "\n",
    "%run \"../keras-retinanet/keras_retinanet/bin/evaluate.py\" csv ../Images/Harbor_Seals_Beach_Only/harbor_test_annotations_beach_only.csv ../Data/harbor_seal_correct_annotations/harbor_classes.csv ../Data/final_model_harbor_seal_beach_only2.h5"
   ]
  },
  {
   "cell_type": "code",
   "execution_count": 7,
   "id": "b7638a76",
   "metadata": {},
   "outputs": [
    {
     "name": "stdout",
     "output_type": "stream",
     "text": [
      "Loading model, this may take a second...\n",
      "WARNING:tensorflow:No training configuration found in the save file, so the model was *not* compiled. Compile it manually.\n"
     ]
    },
    {
     "name": "stderr",
     "output_type": "stream",
     "text": [
      "Running network: 100% (13 of 13) |#######| Elapsed Time: 0:00:51 Time:  0:00:51\n",
      "Parsing annotations: 100% (13 of 13) |###| Elapsed Time: 0:00:00 Time:  0:00:00\n"
     ]
    },
    {
     "name": "stdout",
     "output_type": "stream",
     "text": [
      "147 instances of class seal with average precision: 0.6594\n",
      "Inference time for 13 images: 3.8298\n",
      "mAP using the weighted average of precisions among classes: 0.6594\n",
      "mAP: 0.6594\n"
     ]
    }
   ],
   "source": [
    "##VAL\n",
    "\n",
    "%run \"../keras-retinanet/keras_retinanet/bin/evaluate.py\" csv ../Images/Harbor_Seals_Beach_Only/harbor_val_annotations_beach_only.csv ../Data/harbor_seal_correct_annotations/harbor_classes.csv ../Data/final_model_harbor_seal_beach_only2.h5"
   ]
  },
  {
   "cell_type": "code",
   "execution_count": null,
   "id": "ef2fe613",
   "metadata": {},
   "outputs": [],
   "source": []
  },
  {
   "cell_type": "code",
   "execution_count": 8,
   "id": "243cc533",
   "metadata": {},
   "outputs": [
    {
     "name": "stdout",
     "output_type": "stream",
     "text": [
      "Loading model, this may take a second...\n",
      "WARNING:tensorflow:No training configuration found in the save file, so the model was *not* compiled. Compile it manually.\n"
     ]
    },
    {
     "name": "stderr",
     "output_type": "stream",
     "text": [
      "Running network: 100% (13 of 13) |#######| Elapsed Time: 0:00:54 Time:  0:00:54\n",
      "Parsing annotations: 100% (13 of 13) |###| Elapsed Time: 0:00:00 Time:  0:00:00\n"
     ]
    },
    {
     "name": "stdout",
     "output_type": "stream",
     "text": [
      "147 instances of class seal with average precision: 0.6371\n",
      "Inference time for 13 images: 4.0757\n",
      "mAP using the weighted average of precisions among classes: 0.6371\n",
      "mAP: 0.6371\n"
     ]
    }
   ],
   "source": [
    "##VAL\n",
    "\n",
    "%run \"../keras-retinanet/keras_retinanet/bin/evaluate.py\" csv ../Images/Harbor_Seals_Beach_Only/harbor_val_annotations_beach_only.csv ../Data/harbor_seal_correct_annotations/harbor_classes.csv ../Data/final_model_harbor_seal_beach_only.h5"
   ]
  },
  {
   "cell_type": "code",
   "execution_count": 11,
   "id": "c3bf6dd7",
   "metadata": {},
   "outputs": [
    {
     "name": "stdout",
     "output_type": "stream",
     "text": [
      "Loading model, this may take a second...\n",
      "WARNING:tensorflow:No training configuration found in the save file, so the model was *not* compiled. Compile it manually.\n"
     ]
    },
    {
     "name": "stderr",
     "output_type": "stream",
     "text": [
      "Running network: 100% (18 of 18) |#######| Elapsed Time: 0:01:14 Time:  0:01:14\n",
      "Parsing annotations: 100% (18 of 18) |###| Elapsed Time: 0:00:00 Time:  0:00:00\n"
     ]
    },
    {
     "name": "stdout",
     "output_type": "stream",
     "text": [
      "148 instances of class seal with average precision: 0.5053\n",
      "Inference time for 18 images: 4.0172\n",
      "mAP using the weighted average of precisions among classes: 0.5053\n",
      "mAP: 0.5053\n"
     ]
    }
   ],
   "source": [
    "##TEST\n",
    "\n",
    "%run \"../keras-retinanet/keras_retinanet/bin/evaluate.py\" csv ../Images/Harbor_Seals_Beach_Only/harbor_test_annotations_beach_only.csv ../Data/harbor_seal_correct_annotations/harbor_classes.csv ../Data/final_model_harbor_seal_beach_only.h5"
   ]
  },
  {
   "cell_type": "code",
   "execution_count": null,
   "id": "ab838d27",
   "metadata": {},
   "outputs": [],
   "source": []
  },
  {
   "cell_type": "code",
   "execution_count": 12,
   "id": "be3f6513",
   "metadata": {},
   "outputs": [
    {
     "name": "stdout",
     "output_type": "stream",
     "text": [
      "Loading model, this may take a second...\n",
      "WARNING:tensorflow:No training configuration found in the save file, so the model was *not* compiled. Compile it manually.\n"
     ]
    },
    {
     "name": "stderr",
     "output_type": "stream",
     "text": [
      "Running network: 100% (16 of 16) |#######| Elapsed Time: 0:01:13 Time:  0:01:13\n",
      "Parsing annotations: 100% (16 of 16) |###| Elapsed Time: 0:00:00 Time:  0:00:00\n"
     ]
    },
    {
     "name": "stdout",
     "output_type": "stream",
     "text": [
      "198 instances of class seal with average precision: 0.6395\n",
      "Inference time for 16 images: 4.4607\n",
      "mAP using the weighted average of precisions among classes: 0.6395\n",
      "mAP: 0.6395\n"
     ]
    }
   ],
   "source": [
    "##TEST FULL\n",
    "\n",
    "%run \"../keras-retinanet/keras_retinanet/bin/evaluate.py\" csv ../Images/Harbor_Seals_Full_Data/harbor_test_annotations_full.csv ../Data/harbor_seal_correct_annotations/harbor_classes.csv ../Data/final_model_harbor_seal_beach_only2.h5"
   ]
  },
  {
   "cell_type": "code",
   "execution_count": 13,
   "id": "82c39f53",
   "metadata": {},
   "outputs": [
    {
     "name": "stdout",
     "output_type": "stream",
     "text": [
      "Loading model, this may take a second...\n",
      "WARNING:tensorflow:No training configuration found in the save file, so the model was *not* compiled. Compile it manually.\n"
     ]
    },
    {
     "name": "stderr",
     "output_type": "stream",
     "text": [
      "Running network: 100% (23 of 23) |#######| Elapsed Time: 0:01:51 Time:  0:01:51\n",
      "Parsing annotations: 100% (23 of 23) |###| Elapsed Time: 0:00:00 Time:  0:00:00\n"
     ]
    },
    {
     "name": "stdout",
     "output_type": "stream",
     "text": [
      "222 instances of class seal with average precision: 0.5940\n",
      "Inference time for 23 images: 4.7591\n",
      "mAP using the weighted average of precisions among classes: 0.5940\n",
      "mAP: 0.5940\n"
     ]
    }
   ],
   "source": [
    "##VAL FULL\n",
    "\n",
    "%run \"../keras-retinanet/keras_retinanet/bin/evaluate.py\" csv ../Images/Harbor_Seals_Full_Data/harbor_val_annotations_full.csv ../Data/harbor_seal_correct_annotations/harbor_classes.csv ../Data/final_model_harbor_seal_beach_only2.h5"
   ]
  },
  {
   "cell_type": "code",
   "execution_count": null,
   "id": "9a2e432f",
   "metadata": {},
   "outputs": [],
   "source": []
  },
  {
   "cell_type": "code",
   "execution_count": null,
   "id": "dacb76c1",
   "metadata": {},
   "outputs": [],
   "source": []
  },
  {
   "cell_type": "code",
   "execution_count": null,
   "id": "c006528b",
   "metadata": {},
   "outputs": [],
   "source": []
  },
  {
   "cell_type": "code",
   "execution_count": 4,
   "id": "5528b30b",
   "metadata": {},
   "outputs": [
    {
     "name": "stdout",
     "output_type": "stream",
     "text": [
      "Loading model, this may take a second...\n",
      "WARNING:tensorflow:No training configuration found in the save file, so the model was *not* compiled. Compile it manually.\n"
     ]
    },
    {
     "name": "stderr",
     "output_type": "stream",
     "text": [
      "Running network: 100% (18 of 18) |#######| Elapsed Time: 0:00:18 Time:  0:00:18\n",
      "Parsing annotations: 100% (18 of 18) |###| Elapsed Time: 0:00:00 Time:  0:00:00\n"
     ]
    },
    {
     "name": "stdout",
     "output_type": "stream",
     "text": [
      "148 instances of class seal with average precision: 0.4472\n",
      "Inference time for 18 images: 1.0201\n",
      "mAP using the weighted average of precisions among classes: 0.4472\n",
      "mAP: 0.4472\n"
     ]
    }
   ],
   "source": [
    "#evaluate the model on the test set\n",
    "#first arg is test annotations, second is classes, third is (converted) model\n",
    "#classes must be in same dir as the tiled images\n",
    "%run \"../keras-retinanet/keras_retinanet/bin/evaluate.py\" csv ../Images/Harbor_Seals_Beach_Only/harbor_test_annotations.csv ../Data/harbor_classes.csv ../Data/final_model_harbor_seal_beach_only2.h5"
   ]
  },
  {
   "cell_type": "code",
   "execution_count": 5,
   "id": "aae8e2dd",
   "metadata": {},
   "outputs": [
    {
     "name": "stdout",
     "output_type": "stream",
     "text": [
      "Loading model, this may take a second...\n",
      "WARNING:tensorflow:No training configuration found in the save file, so the model was *not* compiled. Compile it manually.\n"
     ]
    },
    {
     "name": "stderr",
     "output_type": "stream",
     "text": [
      "Running network: 100% (13 of 13) |#######| Elapsed Time: 0:00:16 Time:  0:00:16\n",
      "Parsing annotations: 100% (13 of 13) |###| Elapsed Time: 0:00:00 Time:  0:00:00\n"
     ]
    },
    {
     "name": "stdout",
     "output_type": "stream",
     "text": [
      "147 instances of class seal with average precision: 0.6594\n",
      "Inference time for 13 images: 1.1988\n",
      "mAP using the weighted average of precisions among classes: 0.6594\n",
      "mAP: 0.6594\n"
     ]
    }
   ],
   "source": [
    "#evaluate the model on the val set\n",
    "%run \"../keras-retinanet/keras_retinanet/bin/evaluate.py\" csv ../Images/Harbor_Seals_Beach_Only/harbor_val_annotations.csv ../Data/harbor_classes.csv ../Data/final_model_harbor_seal_beach_only2.h5"
   ]
  },
  {
   "cell_type": "code",
   "execution_count": 8,
   "id": "b20dd2f4",
   "metadata": {},
   "outputs": [],
   "source": [
    "#%run \"../keras-retinanet/keras_retinanet/bin/convert_model.py\" --config harbor_config.ini ../Data/Habor_Beach/resnet50_csv_11.h5 ../Data/final_model_harbor_seal_first_run_full_data.h5"
   ]
  },
  {
   "cell_type": "code",
   "execution_count": 10,
   "id": "067e7d3d",
   "metadata": {},
   "outputs": [
    {
     "name": "stdout",
     "output_type": "stream",
     "text": [
      "Loading model, this may take a second...\n",
      "WARNING:tensorflow:No training configuration found in the save file, so the model was *not* compiled. Compile it manually.\n"
     ]
    },
    {
     "name": "stderr",
     "output_type": "stream",
     "text": [
      "Running network: 100% (153 of 153) |#####| Elapsed Time: 0:03:38 Time:  0:03:38\n",
      "Parsing annotations: 100% (153 of 153) |#| Elapsed Time: 0:00:00 Time:  0:00:00\n"
     ]
    },
    {
     "name": "stdout",
     "output_type": "stream",
     "text": [
      "1645 instances of class seal with average precision: 0.6286\n",
      "Inference time for 153 images: 1.3894\n",
      "mAP using the weighted average of precisions among classes: 0.6286\n",
      "mAP: 0.6286\n"
     ]
    }
   ],
   "source": [
    "%run \"../keras-retinanet/keras_retinanet/bin/evaluate.py\" csv ../Images/Harbor_Seals_Beach_Only/harbor_test_annotations_full.csv ../Data/harbor_classes.csv ../Data/final_model_harbor_seal_first_run_full_data.h5"
   ]
  },
  {
   "cell_type": "code",
   "execution_count": 12,
   "id": "2c1a0de3",
   "metadata": {},
   "outputs": [
    {
     "name": "stdout",
     "output_type": "stream",
     "text": [
      "Loading model, this may take a second...\n",
      "WARNING:tensorflow:No training configuration found in the save file, so the model was *not* compiled. Compile it manually.\n"
     ]
    },
    {
     "name": "stderr",
     "output_type": "stream",
     "text": [
      "Running network: 100% (18 of 18) |#######| Elapsed Time: 0:00:18 Time:  0:00:18\n",
      "Parsing annotations: 100% (18 of 18) |###| Elapsed Time: 0:00:00 Time:  0:00:00\n"
     ]
    },
    {
     "name": "stdout",
     "output_type": "stream",
     "text": [
      "148 instances of class seal with average precision: 0.5053\n",
      "Inference time for 18 images: 1.0124\n",
      "mAP using the weighted average of precisions among classes: 0.5053\n",
      "mAP: 0.5053\n"
     ]
    }
   ],
   "source": [
    "%run \"../keras-retinanet/keras_retinanet/bin/evaluate.py\" csv ../Images/Harbor_Seals_Beach_Only/harbor_test_annotations.csv ../Data/harbor_classes.csv ../Data/final_model_harbor_seal_beach_only.h5"
   ]
  },
  {
   "cell_type": "code",
   "execution_count": null,
   "id": "73b66bbf",
   "metadata": {},
   "outputs": [],
   "source": [
    "%run \"../keras-retinanet/keras_retinanet/bin/evaluate.py\" csv ../Images/Harbor_Seals_Beach_Only/harbor_test_annotations.csv ../Data/harbor_classes.csv ../Data/final_model_harbor_seal_beach_only.h5"
   ]
  },
  {
   "cell_type": "code",
   "execution_count": 14,
   "id": "2e8be94d",
   "metadata": {},
   "outputs": [],
   "source": [
    "%matplotlib inline\n",
    "\n",
    "%reload_ext autoreload\n",
    "%autoreload 2\n",
    "\n",
    "import keras\n",
    "\n",
    "from keras_retinanet.models import retinanet\n",
    "from keras_retinanet import models\n",
    "from keras_retinanet.utils.image import read_image_bgr, preprocess_image, resize_image\n",
    "from keras_retinanet.utils.visualization import draw_box, draw_caption\n",
    "from keras_retinanet.utils.colors import label_color\n",
    "\n",
    "\n",
    "import matplotlib.pyplot as plt\n",
    "import cv2\n",
    "import sys\n",
    "import os\n",
    "import numpy as np\n",
    "import time\n",
    "import json\n",
    "from random import shuffle\n",
    "\n",
    "import tensorflow as tf\n",
    "\n",
    "def get_session():\n",
    "    config = tf.compat.v1.ConfigProto()\n",
    "    config.gpu_options.allow_growth = True\n",
    "    return tf.compat.v1.Session(config=config)\n",
    "\n",
    "tf.compat.v1.keras.backend.set_session(get_session())"
   ]
  },
  {
   "cell_type": "code",
   "execution_count": null,
   "id": "dc4dd79a",
   "metadata": {},
   "outputs": [],
   "source": []
  },
  {
   "cell_type": "code",
   "execution_count": 15,
   "id": "c0bc83b1",
   "metadata": {},
   "outputs": [],
   "source": [
    "sys.path.insert(0, '../keras-retinanet/keras_retinanet')\n",
    "from utils.gpu import setup_gpu\n",
    "\n",
    "# use this to change which GPU to use\n",
    "gpu = '1'\n",
    "\n",
    "# set the modified tf session as backend in keras\n",
    "setup_gpu(gpu)\n",
    "\n",
    "#tf.config.threading.set_inter_op_parallelism_threads(20) "
   ]
  },
  {
   "cell_type": "code",
   "execution_count": 17,
   "id": "ea7dda8a",
   "metadata": {},
   "outputs": [
    {
     "name": "stdout",
     "output_type": "stream",
     "text": [
      "WARNING:tensorflow:No training configuration found in the save file, so the model was *not* compiled. Compile it manually.\n"
     ]
    }
   ],
   "source": [
    "model_path = '../Data/final_model_harbor_seal_beach_only_best.h5'\n",
    "\n",
    "#print(model_path)\n",
    "\n",
    "model = models.load_model(model_path, backbone_name='resnet50')\n",
    "\n",
    "#print(model.summary())\n",
    "\n",
    "labels_to_names = {0: 'seal'}"
   ]
  },
  {
   "cell_type": "code",
   "execution_count": 20,
   "id": "9544421b",
   "metadata": {},
   "outputs": [
    {
     "name": "stdout",
     "output_type": "stream",
     "text": [
      "851\n"
     ]
    }
   ],
   "source": [
    "import os\n",
    "image_dir = \"../Images/Harbor_Seals_Beach_Only/\"\n",
    "\n",
    "image_list = []\n",
    "for root, dirs, files in os.walk(image_dir):\n",
    "    for filename in files:\n",
    "        if filename.lower().endswith(('.png')):\n",
    "            image_list.append(image_dir2 + filename)\n",
    "print(len(image_list))"
   ]
  },
  {
   "cell_type": "code",
   "execution_count": null,
   "id": "67f2e0eb",
   "metadata": {},
   "outputs": [],
   "source": [
    "visualize = True\n",
    "min_score = 0.5\n",
    "\n",
    "detections1 = {}\n",
    "\n",
    "total_time = 0\n",
    "\n",
    "count = 0\n",
    "detection_iterations = 10\n",
    "shuffle(image_list)\n",
    "\n",
    "for image_path in image_list: \n",
    "    if count > detection_iterations:\n",
    "        break\n",
    "    else: \n",
    "        count +=1\n",
    "    \n",
    "    image = read_image_bgr(image_path)\n",
    "    \n",
    "    if visualize:\n",
    "        draw = image.copy()\n",
    "        draw = cv2.cvtColor(draw, cv2.COLOR_BGR2RGB)\n",
    "        \n",
    "    image = preprocess_image(image)\n",
    "    image, scale = resize_image(image)\n",
    "    \n",
    "    start = time.time()\n",
    "    boxes, scores, labels = model.predict_on_batch(np.expand_dims(image, axis=0))\n",
    "    total_time += time.time() - start \n",
    "    \n",
    "    boxes /= scale\n",
    "    if any(score >= min_score for score in scores [0]):\n",
    "        detections1[image_path] = []\n",
    "    \n",
    "    for box, score, label in zip(boxes[0], scores[0], labels[0]):\n",
    "        if score < min_score:\n",
    "            break\n",
    "        \n",
    "        b = box.astype(int)\n",
    "        detections1[image_path].append({\"box\" : b, \"label\" : label, \"score\" : score})\n",
    "        \n",
    "        if visualize: \n",
    "            color = label_color(label)\n",
    "            \n",
    "            draw_box(draw, b, color=color)\n",
    "            \n",
    "            caption = \"{} {:.3f}\".format(labels_to_names[label], score)\n",
    "            draw_caption(draw, b, caption)\n",
    "            \n",
    "    if any(score >= min_score for score in scores[0]):\n",
    "        if visualize:\n",
    "            plt.figure(figsize=(15, 15))\n",
    "            plt.axis('off')\n",
    "            plt.imshow(draw)\n",
    "            plt.show()\n",
    "            \n",
    "print(\"Finished, time per image:\", total_time/len(image_list1))"
   ]
  },
  {
   "cell_type": "code",
   "execution_count": 22,
   "id": "1e348159",
   "metadata": {},
   "outputs": [
    {
     "name": "stdout",
     "output_type": "stream",
     "text": [
      "Finished, time per image: 3.0429834156843247\n"
     ]
    }
   ],
   "source": [
    "min_score = 0.5\n",
    "\n",
    "detections = {}\n",
    "\n",
    "total_time = 0\n",
    "\n",
    "for image_path in image_list:\n",
    "    \n",
    "    image = read_image_bgr(image_path)\n",
    "          \n",
    "    image = preprocess_image(image)\n",
    "    image, scale = resize_image(image)\n",
    "    \n",
    "    start = time.time()\n",
    "    boxes, scores, labels = model.predict_on_batch(np.expand_dims(image, axis=0))\n",
    "    total_time += time.time() - start\n",
    "    \n",
    "    boxes /= scale  \n",
    "        \n",
    "    if any(score >= min_score for score in scores[0]):\n",
    "        detections[image_path] = []\n",
    "        \n",
    "    for box, score, label in zip(boxes[0], scores[0], labels[0]):\n",
    "        if score < min_score:\n",
    "            break\n",
    "        \n",
    "        b = box.astype(int)    \n",
    "        detections[image_path].append({\"box\" : b, \"label\" : label, \"score\" : score})\n",
    "        \n",
    "            \n",
    "print(\"Finished, time per image:\", total_time/len(image_list))"
   ]
  },
  {
   "cell_type": "code",
   "execution_count": 24,
   "id": "653a455e",
   "metadata": {},
   "outputs": [],
   "source": [
    "class MyEncoder(json.JSONEncoder):\n",
    "    def default(self, obj):\n",
    "        if isinstance(obj, np.integer):\n",
    "            return int(obj)\n",
    "        elif isinstance(obj, np.floating):\n",
    "            return float(obj)\n",
    "        elif isinstance(obj, np.ndarray):\n",
    "            return obj.tolist()\n",
    "        else:\n",
    "            return super(MyEncoder, self).default(obj)"
   ]
  },
  {
   "cell_type": "code",
   "execution_count": 25,
   "id": "47c84795",
   "metadata": {},
   "outputs": [],
   "source": [
    "with open('../Data/harbor_beach_detections.json', 'w') as fp:\n",
    "    json.dump(detections, fp, cls=MyEncoder)"
   ]
  },
  {
   "cell_type": "code",
   "execution_count": 23,
   "id": "3409421e",
   "metadata": {
    "scrolled": true
   },
   "outputs": [
    {
     "name": "stdout",
     "output_type": "stream",
     "text": [
      "247\n"
     ]
    }
   ],
   "source": [
    "print(len(detections))"
   ]
  },
  {
   "cell_type": "code",
   "execution_count": null,
   "id": "bf53821c",
   "metadata": {},
   "outputs": [],
   "source": []
  }
 ],
 "metadata": {
  "kernelspec": {
   "display_name": "Python 3",
   "language": "python",
   "name": "python3"
  },
  "language_info": {
   "codemirror_mode": {
    "name": "ipython",
    "version": 3
   },
   "file_extension": ".py",
   "mimetype": "text/x-python",
   "name": "python",
   "nbconvert_exporter": "python",
   "pygments_lexer": "ipython3",
   "version": "3.8.8"
  }
 },
 "nbformat": 4,
 "nbformat_minor": 5
}
