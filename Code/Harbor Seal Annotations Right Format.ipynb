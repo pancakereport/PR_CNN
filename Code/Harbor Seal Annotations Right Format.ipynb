{
 "cells": [
  {
   "cell_type": "code",
   "execution_count": 8,
   "id": "cda69948",
   "metadata": {},
   "outputs": [],
   "source": [
    "#code taken from https://github.com/madelinehayes/seabirdNET/blob/master/via_to_retinanet_FINAL.ipynb"
   ]
  },
  {
   "cell_type": "code",
   "execution_count": 22,
   "id": "5988e512",
   "metadata": {},
   "outputs": [],
   "source": [
    "import os\n",
    "import argparse\n",
    "import numpy as np\n",
    "import json\n",
    "import csv"
   ]
  },
  {
   "cell_type": "code",
   "execution_count": 23,
   "id": "16f24901",
   "metadata": {},
   "outputs": [],
   "source": [
    "import os\n",
    "path = '../Images/Harbor_Seals_Tile'\n",
    "image_list = [f for f in os.listdir(path) if f.endswith('.png')]\n",
    "#image_list"
   ]
  },
  {
   "cell_type": "code",
   "execution_count": 24,
   "id": "4d6c894b",
   "metadata": {},
   "outputs": [
    {
     "name": "stdout",
     "output_type": "stream",
     "text": [
      "308 277 2495\n"
     ]
    }
   ],
   "source": [
    "#shuffle image list and split into training, testing, validation\n",
    "import random\n",
    "\n",
    "random.shuffle(image_list)\n",
    "total_count = len(image_list)\n",
    "\n",
    "#print(total_count)\n",
    "\n",
    "test_index = int(total_count*.1)\n",
    "val_index = int(total_count*.9*.1) + test_index\n",
    "\n",
    "#print(test_index_albatross, val_index_albatross)\n",
    "\n",
    "test_data = image_list[:test_index]\n",
    "val_data = image_list[test_index:val_index]\n",
    "train_data = image_list[val_index:]\n",
    "\n",
    "print(len(test_data), len(val_data), len(train_data))"
   ]
  },
  {
   "cell_type": "code",
   "execution_count": 25,
   "id": "75cb8a1f",
   "metadata": {},
   "outputs": [],
   "source": [
    "via_path = '../Data/Tiled_Harbor_Seals.csv'\n",
    "\n",
    "image_annotations_train = []\n",
    "image_annotations_test = []\n",
    "image_annotations_val = []\n",
    "\n",
    "with open(via_path, \"r\") as f:\n",
    "    reader = csv.reader(f, delimiter=\",\")\n",
    "    for line in reader: \n",
    "        # output we want\n",
    "        # path/to/image.jpg,x1,y1,x2,y2,class_name\n",
    "        # /data/imgs/img_001.jpg,837,346,981,456,cow\n",
    "        if '#' in line[0][0]:\n",
    "            # bypassing comments in csv\n",
    "            continue\n",
    "        filename = line[1][2:-2]\n",
    "        # strip brackets, split and get only the values we care about, then convert all the string to int \n",
    "        coords = list(map(int,list(map(float, line[4].strip('][').split(',')[1:]))))\n",
    "        if len(coords) != 4:\n",
    "            print('bad annotation showed up')\n",
    "            continue\n",
    "            \n",
    "        top_left_x, top_left_y, width, height = list(map(int,list(map(float, line[4].strip('][').split(',')[1:]))))\n",
    "\n",
    "        if width == 0 or height == 0:\n",
    "            continue\n",
    "        # move from top left and width/height to x and y values\n",
    "        if top_left_x < 0:\n",
    "            top_left_x = 1\n",
    "        if top_left_y < 0:\n",
    "            top_left_y = 1\n",
    "        x1 = top_left_x\n",
    "        x2 = top_left_x + width\n",
    "        y1 = top_left_y\n",
    "        y2 = top_left_y + height \n",
    "\n",
    "        name = \"seal\"\n",
    "\n",
    "        # create the csv row\n",
    "        new_row = []\n",
    "        if filename in train_data:\n",
    "            new_row.append(filename)\n",
    "            new_row.append(x1)\n",
    "            new_row.append(y1)\n",
    "            new_row.append(x2)\n",
    "            new_row.append(y2)\n",
    "            new_row.append(name)\n",
    "\n",
    "            image_annotations_train.append(new_row)\n",
    "        elif filename in test_data:\n",
    "            new_row.append(filename)\n",
    "            new_row.append(x1)\n",
    "            new_row.append(y1)\n",
    "            new_row.append(x2)\n",
    "            new_row.append(y2)\n",
    "            new_row.append(name)\n",
    "\n",
    "            image_annotations_test.append(new_row)\n",
    "        else:\n",
    "            new_row.append(filename)\n",
    "            new_row.append(x1)\n",
    "            new_row.append(y1)\n",
    "            new_row.append(x2)\n",
    "            new_row.append(y2)\n",
    "            new_row.append(name)\n",
    "\n",
    "            image_annotations_val.append(new_row)"
   ]
  },
  {
   "cell_type": "code",
   "execution_count": 21,
   "id": "bbf48e83",
   "metadata": {},
   "outputs": [],
   "source": [
    "with open('../Data/harbor_test_annotations.csv', 'w', newline='') as fp:\n",
    "    writer = csv.writer(fp)\n",
    "    writer.writerows(image_annotations_test)\n",
    "    \n",
    "with open('../Data/harbor_val_annotations.csv', 'w', newline='') as fp:\n",
    "    writer = csv.writer(fp)\n",
    "    writer.writerows(image_annotations_val)\n",
    "    \n",
    "with open('../Data/harbor_train_annotations.csv', 'w', newline='') as fp:\n",
    "    writer = csv.writer(fp)\n",
    "    writer.writerows(image_annotations_train)"
   ]
  },
  {
   "cell_type": "code",
   "execution_count": 17,
   "id": "36728074",
   "metadata": {},
   "outputs": [],
   "source": [
    "#not sure what this is and where it should go but... come back\n",
    "#'mosaics/tiles/classes.csv'\n",
    "detection_classes = [[\"seal\", 0]]\n",
    "with open('../Data/harbor_classes.csv', 'w') as fp:\n",
    "    writer = csv.writer(fp)\n",
    "    writer.writerows(detection_classes)"
   ]
  },
  {
   "cell_type": "code",
   "execution_count": 26,
   "id": "572de49a",
   "metadata": {},
   "outputs": [
    {
     "name": "stdout",
     "output_type": "stream",
     "text": [
      "198\n"
     ]
    }
   ],
   "source": [
    "print(len(image_annotations_test))"
   ]
  },
  {
   "cell_type": "code",
   "execution_count": 27,
   "id": "291e1671",
   "metadata": {},
   "outputs": [
    {
     "name": "stdout",
     "output_type": "stream",
     "text": [
      "168\n"
     ]
    }
   ],
   "source": [
    "print(len(image_annotations_val))"
   ]
  },
  {
   "cell_type": "code",
   "execution_count": 28,
   "id": "76bc5874",
   "metadata": {},
   "outputs": [
    {
     "name": "stdout",
     "output_type": "stream",
     "text": [
      "1298\n"
     ]
    }
   ],
   "source": [
    "print(len(image_annotations_train))"
   ]
  },
  {
   "cell_type": "code",
   "execution_count": 29,
   "id": "a1613c08",
   "metadata": {},
   "outputs": [
    {
     "name": "stderr",
     "output_type": "stream",
     "text": [
      "Using TensorFlow backend.\n"
     ]
    },
    {
     "name": "stdout",
     "output_type": "stream",
     "text": [
      "Loading model, this may take a second...\n",
      "WARNING:tensorflow:No training configuration found in the save file, so the model was *not* compiled. Compile it manually.\n"
     ]
    },
    {
     "name": "stderr",
     "output_type": "stream",
     "text": [
      "Running network: 100% (158 of 158) |#####| Elapsed Time: 0:11:40 Time:  0:11:40\n",
      "Parsing annotations: 100% (158 of 158) |#| Elapsed Time: 0:00:00 Time:  0:00:00\n"
     ]
    },
    {
     "name": "stdout",
     "output_type": "stream",
     "text": [
      "1436 instances of class seal with average precision: 0.6338\n",
      "Inference time for 158 images: 4.2920\n",
      "mAP using the weighted average of precisions among classes: 0.6338\n",
      "mAP: 0.6338\n"
     ]
    }
   ],
   "source": [
    "%run \"../keras-retinanet/keras_retinanet/bin/evaluate.py\" csv ../Images/Harbor_Seals_Tile/harbor_train_annotations.csv ../Images/Harbor_Seals_Tile/harbor_classes.csv ../Data/final_model_harbor_seal.h5"
   ]
  },
  {
   "cell_type": "code",
   "execution_count": null,
   "id": "7f93d79a",
   "metadata": {},
   "outputs": [],
   "source": []
  }
 ],
 "metadata": {
  "kernelspec": {
   "display_name": "Python 3",
   "language": "python",
   "name": "python3"
  },
  "language_info": {
   "codemirror_mode": {
    "name": "ipython",
    "version": 3
   },
   "file_extension": ".py",
   "mimetype": "text/x-python",
   "name": "python",
   "nbconvert_exporter": "python",
   "pygments_lexer": "ipython3",
   "version": "3.8.8"
  }
 },
 "nbformat": 4,
 "nbformat_minor": 5
}
