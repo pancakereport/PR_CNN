{
 "cells": [
  {
   "cell_type": "code",
   "execution_count": 39,
   "id": "64ab649f",
   "metadata": {},
   "outputs": [],
   "source": [
    "files = ['harbor_train_annotations', 'harbor_test_annotations', 'harbor_val_annotations']\n",
    "\n",
    "import csv\n",
    "         \n",
    "def replace(fn):         \n",
    "    file = open('../Images/Harbor_Seals_Full_Data/' + fn + '.csv', 'r')\n",
    "    text = file.readlines()\n",
    "    lines = []\n",
    "    for line in text:\n",
    "        #print(line)\n",
    "        parts = line.split(',')\n",
    "        fname = parts[0]\n",
    "        seg = fname.split('.')\n",
    "        mid = seg[1]\n",
    "        num = mid.split('-')[-1]\n",
    "        new = seg[0] + '---' + num + '.png'\n",
    "        parts[0] = new\n",
    "        newline = ','.join(parts)\n",
    "        parts = [x.strip() for x in parts]\n",
    "        lines.append(parts)\n",
    "        #print(newline)\n",
    "    file.close()\n",
    "    \n",
    "    with open('..\\Images\\Harbor_Seals_Full_Data\\harbor_test_annotations_drive.csv', 'w', newline='') as fp:\n",
    "        writer = csv.writer(fp)\n",
    "        writer.writerows(lines)\n",
    "\n",
    "    \n"
   ]
  },
  {
   "cell_type": "code",
   "execution_count": 40,
   "id": "08075603",
   "metadata": {},
   "outputs": [],
   "source": [
    "replace(files[2])"
   ]
  },
  {
   "cell_type": "code",
   "execution_count": 41,
   "id": "3ce6a3c3",
   "metadata": {},
   "outputs": [],
   "source": [
    "replace(files[1])\n",
    "replace(files[0])"
   ]
  },
  {
   "cell_type": "code",
   "execution_count": null,
   "id": "ddde0c2a",
   "metadata": {},
   "outputs": [],
   "source": []
  },
  {
   "cell_type": "code",
   "execution_count": null,
   "id": "d4e9627f",
   "metadata": {},
   "outputs": [],
   "source": []
  }
 ],
 "metadata": {
  "kernelspec": {
   "display_name": "Python 3",
   "language": "python",
   "name": "python3"
  },
  "language_info": {
   "codemirror_mode": {
    "name": "ipython",
    "version": 3
   },
   "file_extension": ".py",
   "mimetype": "text/x-python",
   "name": "python",
   "nbconvert_exporter": "python",
   "pygments_lexer": "ipython3",
   "version": "3.8.8"
  }
 },
 "nbformat": 4,
 "nbformat_minor": 5
}
