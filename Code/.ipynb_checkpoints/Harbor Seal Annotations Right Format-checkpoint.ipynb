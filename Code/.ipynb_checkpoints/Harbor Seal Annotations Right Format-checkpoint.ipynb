{
 "cells": [
  {
   "cell_type": "code",
   "execution_count": 1,
   "id": "cda69948",
   "metadata": {},
   "outputs": [],
   "source": [
    "#code taken from https://github.com/madelinehayes/seabirdNET/blob/master/via_to_retinanet_FINAL.ipynb"
   ]
  },
  {
   "cell_type": "code",
   "execution_count": 2,
   "id": "5988e512",
   "metadata": {},
   "outputs": [],
   "source": [
    "import os\n",
    "import argparse\n",
    "import numpy as np\n",
    "import json\n",
    "import csv"
   ]
  },
  {
   "cell_type": "code",
   "execution_count": 3,
   "id": "16f24901",
   "metadata": {},
   "outputs": [
    {
     "data": {
      "text/plain": [
       "['e_seal_2_25_2022_1.jpg',\n",
       " 'e_seal_2_25_2022_2.jpg',\n",
       " 'e_seal_2_25_2022_3.jpg',\n",
       " 'e_seal_2_25_2022_4.jpg']"
      ]
     },
     "execution_count": 3,
     "metadata": {},
     "output_type": "execute_result"
    }
   ],
   "source": [
    "import os\n",
    "path = '../Images/google_earth_test'\n",
    "image_list = [f for f in os.listdir(path) if f.endswith('.jpg')]\n",
    "image_list"
   ]
  },
  {
   "cell_type": "code",
   "execution_count": 4,
   "id": "4d6c894b",
   "metadata": {},
   "outputs": [
    {
     "name": "stdout",
     "output_type": "stream",
     "text": [
      "0 0 4\n"
     ]
    }
   ],
   "source": [
    "#shuffle image list and split into training, testing, validation\n",
    "import random\n",
    "\n",
    "random.shuffle(image_list)\n",
    "total_count = len(image_list)\n",
    "\n",
    "#print(total_count)\n",
    "\n",
    "test_index = int(total_count*.1)\n",
    "val_index = int(total_count*.9*.1) + test_index\n",
    "\n",
    "#print(test_index_albatross, val_index_albatross)\n",
    "\n",
    "test_data = image_list[:test_index]\n",
    "val_data = image_list[test_index:val_index]\n",
    "train_data = image_list[val_index:]\n",
    "\n",
    "print(len(test_data), len(val_data), len(train_data))"
   ]
  },
  {
   "cell_type": "code",
   "execution_count": 5,
   "id": "75cb8a1f",
   "metadata": {},
   "outputs": [],
   "source": [
    "via_path = '../Images/google_earth_test/VIA_test.csv'\n",
    "\n",
    "image_annotations_train = []\n",
    "image_annotations_test = []\n",
    "image_annotations_val = []\n",
    "\n",
    "with open(via_path, \"r\") as f:\n",
    "    reader = csv.reader(f, delimiter=\",\")\n",
    "    for line in reader: \n",
    "        # output we want\n",
    "        # path/to/image.jpg,x1,y1,x2,y2,class_name\n",
    "        # /data/imgs/img_001.jpg,837,346,981,456,cow\n",
    "        if '#' in line[0][0]:\n",
    "            # bypassing comments in csv\n",
    "            continue\n",
    "        filename = line[1][2:-2]\n",
    "        # strip brackets, split and get only the values we care about, then convert all the string to int \n",
    "        coords = list(map(int,list(map(float, line[4].strip('][').split(',')[1:]))))\n",
    "        if len(coords) != 4:\n",
    "            print('bad annotation showed up')\n",
    "            continue\n",
    "            \n",
    "        top_left_x, top_left_y, width, height = list(map(int,list(map(float, line[4].strip('][').split(',')[1:]))))\n",
    "\n",
    "        if width == 0 or height == 0:\n",
    "            continue\n",
    "        # move from top left and width/height to x and y values\n",
    "        if top_left_x < 0:\n",
    "            top_left_x = 1\n",
    "        if top_left_y < 0:\n",
    "            top_left_y = 1\n",
    "        x1 = top_left_x\n",
    "        x2 = top_left_x + width\n",
    "        y1 = top_left_y\n",
    "        y2 = top_left_y + height \n",
    "\n",
    "        name = \"seal\"\n",
    "\n",
    "        # create the csv row\n",
    "        new_row = []\n",
    "        if filename in train_data:\n",
    "            new_row.append(filename)\n",
    "            new_row.append(x1)\n",
    "            new_row.append(y1)\n",
    "            new_row.append(x2)\n",
    "            new_row.append(y2)\n",
    "            new_row.append(name)\n",
    "\n",
    "            image_annotations_train.append(new_row)\n",
    "        elif filename in test_data:\n",
    "            new_row.append(filename)\n",
    "            new_row.append(x1)\n",
    "            new_row.append(y1)\n",
    "            new_row.append(x2)\n",
    "            new_row.append(y2)\n",
    "            new_row.append(name)\n",
    "\n",
    "            image_annotations_test.append(new_row)\n",
    "        else:\n",
    "            new_row.append(filename)\n",
    "            new_row.append(x1)\n",
    "            new_row.append(y1)\n",
    "            new_row.append(x2)\n",
    "            new_row.append(y2)\n",
    "            new_row.append(name)\n",
    "\n",
    "            image_annotations_val.append(new_row)"
   ]
  },
  {
   "cell_type": "code",
   "execution_count": 6,
   "id": "bbf48e83",
   "metadata": {},
   "outputs": [],
   "source": [
    "with open('../Images/google_earth_test/Annotation_Output/test_annotations.csv', 'w') as fp:\n",
    "    writer = csv.writer(fp)\n",
    "    writer.writerows(image_annotations_test)\n",
    "    \n",
    "with open('../Images/google_earth_test/Annotation_Output/val_annotations.csv', 'w') as fp:\n",
    "    writer = csv.writer(fp)\n",
    "    writer.writerows(image_annotations_val)\n",
    "    \n",
    "with open('../Images/google_earth_test/Annotation_Output/train_annotations.csv', 'w') as fp:\n",
    "    writer = csv.writer(fp)\n",
    "    writer.writerows(image_annotations_train)"
   ]
  },
  {
   "cell_type": "code",
   "execution_count": 7,
   "id": "36728074",
   "metadata": {},
   "outputs": [],
   "source": [
    "#not sure what this is and where it should go but... come back\n",
    "#'mosaics/tiles/classes.csv'\n",
    "detection_classes = [[\"seal\", 0]]\n",
    "with open('../Images/google_earth_test/Annotation_Output/classes.csv', 'w') as fp:\n",
    "    writer = csv.writer(fp)\n",
    "    writer.writerows(detection_classes)"
   ]
  },
  {
   "cell_type": "code",
   "execution_count": null,
   "id": "572de49a",
   "metadata": {},
   "outputs": [],
   "source": []
  }
 ],
 "metadata": {
  "kernelspec": {
   "display_name": "Python 3 (ipykernel)",
   "language": "python",
   "name": "python3"
  },
  "language_info": {
   "codemirror_mode": {
    "name": "ipython",
    "version": 3
   },
   "file_extension": ".py",
   "mimetype": "text/x-python",
   "name": "python",
   "nbconvert_exporter": "python",
   "pygments_lexer": "ipython3",
   "version": "3.10.4"
  }
 },
 "nbformat": 4,
 "nbformat_minor": 5
}
