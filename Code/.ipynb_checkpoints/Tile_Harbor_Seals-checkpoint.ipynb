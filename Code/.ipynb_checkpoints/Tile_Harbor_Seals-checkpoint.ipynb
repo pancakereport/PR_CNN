{
 "cells": [
  {
   "cell_type": "code",
   "execution_count": 1,
   "id": "b02e30bc",
   "metadata": {},
   "outputs": [],
   "source": [
    "#code taken from https://github.com/madelinehayes/seabirdNET/blob/master/uas_img_handler_FINAL.ipynb"
   ]
  },
  {
   "cell_type": "code",
   "execution_count": 2,
   "id": "200d52d1",
   "metadata": {},
   "outputs": [],
   "source": [
    "from PIL import Image\n",
    "import os\n",
    "from os import walk\n",
    "import argparse\n",
    "import numpy as np\n",
    "import json\n",
    "import csv\n",
    "import rasterio\n",
    "from rasterio.plot import reshape_as_image\n",
    "from rasterio.windows import Window\n",
    "import matplotlib\n",
    "import folium\n",
    "from pyproj import Proj, transform\n",
    "\n",
    "%matplotlib inline\n",
    "\n",
    "Image.MAX_IMAGE_PIXELS = 100000000000"
   ]
  },
  {
   "cell_type": "code",
   "execution_count": 3,
   "id": "5c0703b4",
   "metadata": {},
   "outputs": [],
   "source": [
    "#access all harbor seal imagery\n",
    "seal = 'Harbor_Seals'\n",
    "#seal = 'Elephant_Seals'\n",
    "\n",
    "sealPath = '../Images/' + seal\n",
    "\n",
    "if seal == 'Harbor_Seals':\n",
    "    overlap = 60\n",
    "elif seal == 'Elephant_Seals':\n",
    "    overlap = 80\n",
    "\n",
    "only_beach = True    \n",
    "    \n",
    "files = next(walk(sealPath), (None, None, []))[2]  # empty if no files exist"
   ]
  },
  {
   "cell_type": "code",
   "execution_count": 4,
   "id": "bca0648c",
   "metadata": {},
   "outputs": [
    {
     "name": "stdout",
     "output_type": "stream",
     "text": [
      "{(3352, 4800)}\n"
     ]
    },
    {
     "name": "stderr",
     "output_type": "stream",
     "text": [
      "C:\\Users\\mgiff\\anaconda3\\envs\\rasterio\\lib\\site-packages\\rasterio\\__init__.py:220: NotGeoreferencedWarning: Dataset has no geotransform, gcps, or rpcs. The identity matrix be returned.\n",
      "  s = DatasetReader(path, driver=driver, sharing=sharing, **kwargs)\n"
     ]
    }
   ],
   "source": [
    "#check all images are the same size\n",
    "def checkImageSize(seal, image):\n",
    "    infile = '../Images/' + seal +'/' + image\n",
    "    dataset = rasterio.open(infile)\n",
    "    img_height, img_width = dataset.shape\n",
    "    return img_height, img_width\n",
    "    \n",
    "    \n",
    "sizes = set()\n",
    "for image in files:\n",
    "    size = checkImageSize(seal, image)\n",
    "    sizes.add(size)\n",
    "    \n",
    "print(sizes)\n",
    "assert(len(sizes) == 1)"
   ]
  },
  {
   "cell_type": "code",
   "execution_count": 5,
   "id": "0dd6e8ba",
   "metadata": {},
   "outputs": [],
   "source": [
    "only_beach = True"
   ]
  },
  {
   "cell_type": "code",
   "execution_count": 6,
   "id": "f3f7f711",
   "metadata": {},
   "outputs": [],
   "source": [
    "if False:\n",
    "    for size in sizes:\n",
    "        img_height, img_width = size\n",
    "        tile_height = tile_width = 500\n",
    "        stride = tile_height - overlap\n",
    "        for r in range(0, img_height-tile_height+1, stride):\n",
    "            for c in range(0, img_width-tile_width+1, stride):\n",
    "                print(r, c) #row, column\n",
    "            print()"
   ]
  },
  {
   "cell_type": "code",
   "execution_count": 9,
   "id": "dca78bd8",
   "metadata": {},
   "outputs": [],
   "source": [
    "def processImage(seal, image, overlap):\n",
    "    '''\n",
    "    args:\n",
    "    seal is a string, either \"Harbor_Seals\" or \"Elephant_Seals\"\n",
    "    image is the satellite image file\n",
    "    overlap is an int with the size of overlap between images\n",
    "    '''\n",
    "    infile = '../Images/' + seal +'/' + image\n",
    "    #img_dir = '..' + infile.split(\".\")[2] + '_500x500_overlap' + str(overlap)\n",
    "    img_dir = '../Images/' + seal \n",
    "    if only_beach:\n",
    "        img_dir += '_Beach_Only'\n",
    "    else:\n",
    "        img_dir += '_Full_Data'\n",
    "    prj_name = img_dir.split(\"/\")[-1]\n",
    "    \n",
    "    #open file (read), get dims\n",
    "    dataset = rasterio.open(infile)\n",
    "    img_height, img_width = dataset.shape\n",
    "    \n",
    "    # define tile size and number of pixels to move in each direction\n",
    "    tile_height = tile_width = 500\n",
    "    stride = tile_height - overlap\n",
    "    start_num = 0\n",
    "    img_dict = {}\n",
    "    count = 0\n",
    "    \n",
    "    # create the dir if it doesn't already exist\n",
    "    if not os.path.exists(img_dir):\n",
    "        os.makedirs(img_dir)\n",
    "        \n",
    "    num_tiles = (img_width * img_height) / ((tile_height - overlap) * (tile_width - overlap))\n",
    "    #print(\"image size\", dataset.shape)\n",
    "    #print(\"number of tiles:\", num_tiles)\n",
    "    \n",
    "    for r in range(0, img_height-tile_height+1, stride):\n",
    "        for c in range(0, img_width-tile_width+1, stride):\n",
    "            # read tile\n",
    "            tile = dataset.read((1,2,3),window=Window(c, r, tile_width, tile_height))\n",
    "            \n",
    "            reshaped_tile = reshape_as_image(tile)\n",
    "            \n",
    "            top_pixel = [c,r]\n",
    "            imag = image.split(\".\")[0]\n",
    "            tile_name = imag + \"---\" + str(count) + \".png\"\n",
    "            img_dict[tile_name] = top_pixel\n",
    "            \n",
    "            im = Image.fromarray(reshaped_tile)\n",
    "            #save \n",
    "            path = os.path.join(img_dir, tile_name)\n",
    "            im.save(path)\n",
    "            \n",
    "            count += 1\n",
    "            \n",
    "    '''\n",
    "    not sure if the following is necessary...\n",
    "    \n",
    "    full_dict = {\"image_name\" : infile,\n",
    "            \"image_locations\" : img_dict,\n",
    "             \"crs\" : str(dataset.crs)\n",
    "            }\n",
    "    with open(img_dir + '/lastLine.json', 'w') as fp:\n",
    "        json.dump(full_dict, fp)\n",
    "    '''"
   ]
  },
  {
   "cell_type": "code",
   "execution_count": 10,
   "id": "7fbfef0b",
   "metadata": {},
   "outputs": [
    {
     "name": "stdout",
     "output_type": "stream",
     "text": [
      "finished image 1\n",
      "finished image 2\n",
      "finished image 3\n",
      "finished image 4\n",
      "finished image 5\n",
      "finished image 6\n",
      "finished image 7\n",
      "finished image 8\n",
      "finished image 9\n",
      "finished image 10\n",
      "finished image 11\n",
      "finished image 12\n",
      "finished image 13\n",
      "finished image 14\n",
      "finished image 15\n",
      "finished image 16\n",
      "finished image 17\n",
      "finished image 18\n",
      "finished image 19\n",
      "finished image 20\n",
      "finished image 21\n",
      "finished image 22\n",
      "finished image 23\n",
      "finished image 24\n",
      "finished image 25\n",
      "finished image 26\n",
      "finished image 27\n",
      "finished image 28\n",
      "finished image 29\n",
      "finished image 30\n",
      "finished image 31\n",
      "finished image 32\n",
      "finished image 33\n",
      "finished image 34\n",
      "finished image 35\n",
      "finished image 36\n",
      "finished image 37\n",
      "finished image 38\n",
      "finished image 39\n",
      "finished image 40\n",
      "finished image 41\n",
      "finished image 42\n",
      "finished image 43\n",
      "finished image 44\n"
     ]
    }
   ],
   "source": [
    "countI = 1\n",
    "for image in files:\n",
    "    processImage(seal, image, overlap)\n",
    "    print('finished image', countI)\n",
    "    countI += 1"
   ]
  },
  {
   "cell_type": "code",
   "execution_count": 11,
   "id": "2bfc8afc",
   "metadata": {},
   "outputs": [
    {
     "name": "stdout",
     "output_type": "stream",
     "text": [
      "done\n"
     ]
    }
   ],
   "source": [
    "print(\"done\")"
   ]
  },
  {
   "cell_type": "code",
   "execution_count": null,
   "id": "2c28766c",
   "metadata": {},
   "outputs": [],
   "source": []
  }
 ],
 "metadata": {
  "kernelspec": {
   "display_name": "Python 3 (ipykernel)",
   "language": "python",
   "name": "python3"
  },
  "language_info": {
   "codemirror_mode": {
    "name": "ipython",
    "version": 3
   },
   "file_extension": ".py",
   "mimetype": "text/x-python",
   "name": "python",
   "nbconvert_exporter": "python",
   "pygments_lexer": "ipython3",
   "version": "3.10.4"
  }
 },
 "nbformat": 4,
 "nbformat_minor": 5
}
