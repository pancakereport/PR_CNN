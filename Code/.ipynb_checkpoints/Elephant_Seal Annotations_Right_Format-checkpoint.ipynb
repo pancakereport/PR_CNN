{
 "cells": [
  {
   "cell_type": "code",
   "execution_count": 49,
   "id": "cda69948",
   "metadata": {},
   "outputs": [],
   "source": [
    "# code modeled after https://github.com/madelinehayes/seabirdNET\n",
    "# note: code is almost identical to Harbor_Seal_Annotations_Right_Format"
   ]
  },
  {
   "cell_type": "code",
   "execution_count": 1,
   "id": "5988e512",
   "metadata": {},
   "outputs": [],
   "source": [
    "import os\n",
    "import argparse\n",
    "import random\n",
    "import numpy as np\n",
    "import json\n",
    "import csv\n",
    "import sys\n",
    "import pandas as pd"
   ]
  },
  {
   "cell_type": "code",
   "execution_count": 2,
   "id": "16f24901",
   "metadata": {},
   "outputs": [],
   "source": [
    "# path to tiled images\n",
    "path = '../Images/Elephant_Seals_Beach_Only'\n",
    "image_list = [f for f in os.listdir(path) if f.endswith('.png')]"
   ]
  },
  {
   "cell_type": "code",
   "execution_count": 3,
   "id": "4d6c894b",
   "metadata": {},
   "outputs": [
    {
     "name": "stdout",
     "output_type": "stream",
     "text": [
      "1741\n",
      "174 156 1411\n"
     ]
    }
   ],
   "source": [
    "# shuffle image list and split into training, testing, validation\n",
    "random.shuffle(image_list)\n",
    "total_count = len(image_list)\n",
    "\n",
    "print(total_count)\n",
    "\n",
    "# 80-10-10\n",
    "test_index = int(total_count*.1)\n",
    "val_index = int(total_count*.9*.1) + test_index\n",
    "\n",
    "test_data = image_list[:test_index]\n",
    "val_data = image_list[test_index:val_index]\n",
    "train_data = image_list[val_index:]\n",
    "\n",
    "print(len(test_data), len(val_data), len(train_data))"
   ]
  },
  {
   "cell_type": "code",
   "execution_count": 5,
   "id": "ec2ecf7e",
   "metadata": {},
   "outputs": [],
   "source": [
    "# because there are so many images and I wanted to save my annotations intermittantly, I have multiple csv files\n",
    "# combine them here\n",
    "eseal_csv_path = '../Data/Elephant_Seal_Anno_csv/combined_csv.csv'\n",
    "out = open(eseal_csv_path, 'w')\n",
    "\n",
    "csvPath = '../Data/Elephant_Seal_Anno_csv'\n",
    "all_csv = [csvPath + '/' + i for i in os.listdir(csvPath) if i.endswith('.csv')]\n",
    "\n",
    "for c in all_csv:\n",
    "    f = open(c)\n",
    "    text = f.read()\n",
    "    out.write(text)"
   ]
  },
  {
   "cell_type": "code",
   "execution_count": 6,
   "id": "75cb8a1f",
   "metadata": {},
   "outputs": [],
   "source": [
    "# path to output\n",
    "via_path = eseal_csv_path = '../Data/Elephant_Seal_Anno_csv/combined_csv.csv'\n",
    "\n",
    "image_annotations_train1 = []\n",
    "image_annotations_test1 = []\n",
    "image_annotations_val1 = []\n",
    "\n",
    "# keep track of how many cows, bulls, and pups are labeled\n",
    "cow = 0\n",
    "bull = 0\n",
    "pup = 0\n",
    "\n",
    "# dictionary mapping the annotations to the correct labels. \n",
    "# if you created your own annotations, be sure to verify this is the same as your annotations using the comments at the top of \n",
    "# the CSV file and change order if not\n",
    "anno_dict = {\"0\":\"cow\",\"1\":\"bull\",\"2\":\"pup\"}\n",
    "\n",
    "with open(via_path, \"r\") as f:\n",
    "    reader = csv.reader(f, delimiter=\",\")\n",
    "    for line in reader: \n",
    "        # output we want\n",
    "        # path/to/image.jpg,x1,y1,x2,y2,class_name\n",
    "        if '#' in line[0][0]:\n",
    "            # bypassing comments in csv\n",
    "            continue\n",
    "        filename = line[1][2:-2]\n",
    "        # strip brackets, split and get only the values we care about, then convert all the string to int \n",
    "        coords = list(map(int,list(map(float, line[4].strip('][').split(',')[1:]))))\n",
    "        \n",
    "        # make sure only bounding rectangles were used\n",
    "        if len(coords) != 4:\n",
    "            print('bad annotation')\n",
    "            continue\n",
    "            \n",
    "        top_left_x, top_left_y, width, height = list(map(int,list(map(float, line[4].strip('][').split(',')[1:]))))\n",
    "\n",
    "        if width == 0 or height == 0:\n",
    "            continue\n",
    "        # move from top left and width/height to x and y values\n",
    "        if top_left_x < 0:\n",
    "            top_left_x = 1\n",
    "        if top_left_y < 0:\n",
    "            top_left_y = 1\n",
    "        x1 = top_left_x\n",
    "        x2 = top_left_x + width\n",
    "        y1 = top_left_y\n",
    "        y2 = top_left_y + height \n",
    "        \n",
    "        # occassionally I had some issues with boxes being to 501 pixels, this just makes sense all boxes are on the image\n",
    "        if x2 > 500:\n",
    "            x2 = 500\n",
    "        if y2 > 500:\n",
    "            y2 = 500\n",
    "\n",
    "        # determine class\n",
    "        if len(line[5]) > 2:\n",
    "            var = line[5]\n",
    "            if '#' in var:\n",
    "                var = var.split('#')[0]\n",
    "            anno = json.loads(var)\n",
    "            n = anno['1']\n",
    "            name = anno_dict[n]\n",
    "            if name == \"cow\":\n",
    "                cow += 1\n",
    "            if name== \"bull\":\n",
    "                bull += 1\n",
    "            if name == \"pup\":\n",
    "                pup += 1\n",
    "        else:\n",
    "            print(\"seal not labeled\" + filename)\n",
    "            continue\n",
    "\n",
    "        # create the csv row\n",
    "        new_row = []\n",
    "        if filename in train_data:\n",
    "            new_row.append(filename)\n",
    "            new_row.append(x1)\n",
    "            new_row.append(y1)\n",
    "            new_row.append(x2)\n",
    "            new_row.append(y2)\n",
    "            new_row.append(name)\n",
    "\n",
    "            image_annotations_train1.append(new_row)\n",
    "        elif filename in test_data:\n",
    "            new_row.append(filename)\n",
    "            new_row.append(x1)\n",
    "            new_row.append(y1)\n",
    "            new_row.append(x2)\n",
    "            new_row.append(y2)\n",
    "            new_row.append(name)\n",
    "\n",
    "            image_annotations_test1.append(new_row)\n",
    "        else:\n",
    "            new_row.append(filename)\n",
    "            new_row.append(x1)\n",
    "            new_row.append(y1)\n",
    "            new_row.append(x2)\n",
    "            new_row.append(y2)\n",
    "            new_row.append(name)\n",
    "\n",
    "            image_annotations_val1.append(new_row)"
   ]
  },
  {
   "cell_type": "code",
   "execution_count": 63,
   "id": "89c73e33",
   "metadata": {},
   "outputs": [
    {
     "name": "stdout",
     "output_type": "stream",
     "text": [
      "3454 688 6602\n"
     ]
    }
   ],
   "source": [
    "print(cow, bull, pup)"
   ]
  },
  {
   "cell_type": "code",
   "execution_count": 55,
   "id": "48a16e82",
   "metadata": {},
   "outputs": [
    {
     "name": "stdout",
     "output_type": "stream",
     "text": [
      "8568 1128 1048\n"
     ]
    }
   ],
   "source": [
    "print(len(image_annotations_train), len(image_annotations_test), len(image_annotations_val))"
   ]
  },
  {
   "cell_type": "code",
   "execution_count": 56,
   "id": "bbf48e83",
   "metadata": {},
   "outputs": [],
   "source": [
    "with open('..\\Images\\Elephant_Seals_Beach_Only\\elephant_test_annotations.csv', 'w', newline='') as fp:\n",
    "    writer = csv.writer(fp)\n",
    "    writer.writerows(image_annotations_test)\n",
    "    \n",
    "with open('..\\Images\\Elephant_Seals_Beach_Only\\elephant_val_annotations.csv', 'w', newline='') as fp:\n",
    "    writer = csv.writer(fp)\n",
    "    writer.writerows(image_annotations_val)\n",
    "    \n",
    "with open('..\\Images\\Elephant_Seals_Beach_Only\\elephant_train_annotations.csv', 'w', newline='') as fp:\n",
    "    writer = csv.writer(fp)\n",
    "    writer.writerows(image_annotations_train)"
   ]
  },
  {
   "cell_type": "code",
   "execution_count": null,
   "id": "c6a723fb",
   "metadata": {},
   "outputs": [],
   "source": []
  }
 ],
 "metadata": {
  "kernelspec": {
   "display_name": "Python 3",
   "language": "python",
   "name": "python3"
  },
  "language_info": {
   "codemirror_mode": {
    "name": "ipython",
    "version": 3
   },
   "file_extension": ".py",
   "mimetype": "text/x-python",
   "name": "python",
   "nbconvert_exporter": "python",
   "pygments_lexer": "ipython3",
   "version": "3.8.8"
  }
 },
 "nbformat": 4,
 "nbformat_minor": 5
}
