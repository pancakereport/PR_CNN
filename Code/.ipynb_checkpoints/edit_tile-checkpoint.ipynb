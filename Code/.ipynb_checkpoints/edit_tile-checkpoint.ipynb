{
 "cells": [
  {
   "cell_type": "code",
   "execution_count": 1,
   "id": "b02e30bc",
   "metadata": {},
   "outputs": [],
   "source": [
    "#code taken from https://github.com/madelinehayes/seabirdNET/blob/master/uas_img_handler_FINAL.ipynb"
   ]
  },
  {
   "cell_type": "code",
   "execution_count": 9,
   "id": "200d52d1",
   "metadata": {},
   "outputs": [
    {
     "ename": "ModuleNotFoundError",
     "evalue": "No module named 'rasterio'",
     "output_type": "error",
     "traceback": [
      "\u001b[1;31m---------------------------------------------------------------------------\u001b[0m",
      "\u001b[1;31mModuleNotFoundError\u001b[0m                       Traceback (most recent call last)",
      "\u001b[1;32m<ipython-input-9-88d3a7e8b8f8>\u001b[0m in \u001b[0;36m<module>\u001b[1;34m\u001b[0m\n\u001b[0;32m      6\u001b[0m \u001b[1;32mimport\u001b[0m \u001b[0mjson\u001b[0m\u001b[1;33m\u001b[0m\u001b[1;33m\u001b[0m\u001b[0m\n\u001b[0;32m      7\u001b[0m \u001b[1;32mimport\u001b[0m \u001b[0mcsv\u001b[0m\u001b[1;33m\u001b[0m\u001b[1;33m\u001b[0m\u001b[0m\n\u001b[1;32m----> 8\u001b[1;33m \u001b[1;32mimport\u001b[0m \u001b[0mrasterio\u001b[0m\u001b[1;33m\u001b[0m\u001b[1;33m\u001b[0m\u001b[0m\n\u001b[0m\u001b[0;32m      9\u001b[0m \u001b[1;32mfrom\u001b[0m \u001b[0mrasterio\u001b[0m\u001b[1;33m.\u001b[0m\u001b[0mplot\u001b[0m \u001b[1;32mimport\u001b[0m \u001b[0mreshape_as_image\u001b[0m\u001b[1;33m\u001b[0m\u001b[1;33m\u001b[0m\u001b[0m\n\u001b[0;32m     10\u001b[0m \u001b[1;32mfrom\u001b[0m \u001b[0mrasterio\u001b[0m\u001b[1;33m.\u001b[0m\u001b[0mwindows\u001b[0m \u001b[1;32mimport\u001b[0m \u001b[0mWindow\u001b[0m\u001b[1;33m\u001b[0m\u001b[1;33m\u001b[0m\u001b[0m\n",
      "\u001b[1;31mModuleNotFoundError\u001b[0m: No module named 'rasterio'"
     ]
    }
   ],
   "source": [
    "from PIL import Image\n",
    "import os\n",
    "from os import walk\n",
    "import argparse\n",
    "import numpy as np\n",
    "import json\n",
    "import csv\n",
    "import rasterio\n",
    "from rasterio.plot import reshape_as_image\n",
    "from rasterio.windows import Window\n",
    "import matplotlib\n",
    "import folium\n",
    "from pyproj import Proj, transform\n",
    "\n",
    "%matplotlib inline\n",
    "\n",
    "Image.MAX_IMAGE_PIXELS = 100000000000"
   ]
  },
  {
   "cell_type": "code",
   "execution_count": 7,
   "id": "dca78bd8",
   "metadata": {},
   "outputs": [],
   "source": [
    "def processImage(seal, image, overlap):\n",
    "    '''\n",
    "    args:\n",
    "    seal is a string, either \"Harbor_Seals\" or \"Elephant_Seals\"\n",
    "    image is the satellite image file\n",
    "    overlap is an int with the size of overlap between images\n",
    "    \n",
    "    '''\n",
    "    infile = '../Images/' + seal +'/' + image\n",
    "    img_dir = '../Images/' + seal + '_Tile'\n",
    "    prj_name = img_dir.split(\"/\")[-1]\n",
    "    \n",
    "    #open file (read), get dims\n",
    "    dataset = rasterio.open(infile)\n",
    "    img_height, img_width = dataset.shape\n",
    "    \n",
    "    # define tile size and number of pixels to move in each direction\n",
    "    tile_height = tile_width = 500\n",
    "    stride = tile_height - overlap\n",
    "    start_num = 0\n",
    "    img_dict = {}\n",
    "    count = 0\n",
    "    \n",
    "    # create the dir if it doesn't already exist\n",
    "    if not os.path.exists(img_dir):\n",
    "        os.makedirs(img_dir)\n",
    "        \n",
    "    num_tiles = (img_width * img_height) / ((tile_height - overlap) * (tile_width - overlap))\n",
    "    print(\"image size\", dataset.shape)\n",
    "    print(\"number of tiles:\", num_tiles)\n",
    "    print(\"image height: \", img_height)\n",
    "    print(\"image width: \", img_width)\n",
    "    \n",
    "    for r in range(0, img_height-tile_height+1, stride):\n",
    "        for c in range(0, img_width-tile_width+1, stride):\n",
    "            # read tile\n",
    "            print(c, r)\n",
    "            tile = dataset.read((1,2,3),window=Window(c, r, tile_width, tile_height))\n",
    "            \n",
    "            reshaped_tile = reshape_as_image(tile)\n",
    "            \n",
    "            top_pixel = [c,r]\n",
    "            name = image.split(\".\")[0]\n",
    "            tile_name = name + \"---\" + str(count) + \".png\"\n",
    "            img_dict[tile_name] = top_pixel\n",
    "            \n",
    "            im = Image.fromarray(reshaped_tile)\n",
    "            #save \n",
    "            path = os.path.join(img_dir, tile_name)\n",
    "            im.save(path)\n",
    "            \n",
    "            count += 1\n",
    "            \n",
    "    '''\n",
    "    not sure if the following is necessary...\n",
    "    \n",
    "    full_dict = {\"image_name\" : infile,\n",
    "            \"image_locations\" : img_dict,\n",
    "             \"crs\" : str(dataset.crs)\n",
    "            }\n",
    "    with open(img_dir + '/lastLine.json', 'w') as fp:\n",
    "        json.dump(full_dict, fp)\n",
    "    '''"
   ]
  },
  {
   "cell_type": "code",
   "execution_count": 8,
   "id": "07c432d6",
   "metadata": {},
   "outputs": [
    {
     "ename": "NameError",
     "evalue": "name 'rasterio' is not defined",
     "output_type": "error",
     "traceback": [
      "\u001b[1;31m---------------------------------------------------------------------------\u001b[0m",
      "\u001b[1;31mNameError\u001b[0m                                 Traceback (most recent call last)",
      "\u001b[1;32m<ipython-input-8-c6e5f6f1ed4a>\u001b[0m in \u001b[0;36m<module>\u001b[1;34m\u001b[0m\n\u001b[0;32m      1\u001b[0m \u001b[0mimage\u001b[0m \u001b[1;33m=\u001b[0m \u001b[0mfiles\u001b[0m\u001b[1;33m[\u001b[0m\u001b[1;36m0\u001b[0m\u001b[1;33m]\u001b[0m\u001b[1;33m\u001b[0m\u001b[1;33m\u001b[0m\u001b[0m\n\u001b[1;32m----> 2\u001b[1;33m \u001b[0mprocessImage\u001b[0m\u001b[1;33m(\u001b[0m\u001b[0mseal\u001b[0m\u001b[1;33m,\u001b[0m \u001b[0mimage\u001b[0m\u001b[1;33m,\u001b[0m \u001b[0moverlap\u001b[0m\u001b[1;33m)\u001b[0m\u001b[1;33m\u001b[0m\u001b[1;33m\u001b[0m\u001b[0m\n\u001b[0m",
      "\u001b[1;32m<ipython-input-7-3d98724ebc34>\u001b[0m in \u001b[0;36mprocessImage\u001b[1;34m(seal, image, overlap)\u001b[0m\n\u001b[0;32m     12\u001b[0m \u001b[1;33m\u001b[0m\u001b[0m\n\u001b[0;32m     13\u001b[0m     \u001b[1;31m#open file (read), get dims\u001b[0m\u001b[1;33m\u001b[0m\u001b[1;33m\u001b[0m\u001b[1;33m\u001b[0m\u001b[0m\n\u001b[1;32m---> 14\u001b[1;33m     \u001b[0mdataset\u001b[0m \u001b[1;33m=\u001b[0m \u001b[0mrasterio\u001b[0m\u001b[1;33m.\u001b[0m\u001b[0mopen\u001b[0m\u001b[1;33m(\u001b[0m\u001b[0minfile\u001b[0m\u001b[1;33m)\u001b[0m\u001b[1;33m\u001b[0m\u001b[1;33m\u001b[0m\u001b[0m\n\u001b[0m\u001b[0;32m     15\u001b[0m     \u001b[0mimg_height\u001b[0m\u001b[1;33m,\u001b[0m \u001b[0mimg_width\u001b[0m \u001b[1;33m=\u001b[0m \u001b[0mdataset\u001b[0m\u001b[1;33m.\u001b[0m\u001b[0mshape\u001b[0m\u001b[1;33m\u001b[0m\u001b[1;33m\u001b[0m\u001b[0m\n\u001b[0;32m     16\u001b[0m \u001b[1;33m\u001b[0m\u001b[0m\n",
      "\u001b[1;31mNameError\u001b[0m: name 'rasterio' is not defined"
     ]
    }
   ],
   "source": [
    "image = files[0]\n",
    "processImage(seal, image, overlap)"
   ]
  },
  {
   "cell_type": "code",
   "execution_count": 3,
   "id": "fd5314c8",
   "metadata": {},
   "outputs": [],
   "source": [
    "seal = 'Harbor_Seals'\n",
    "#seal = 'Elephant_Seals'\n",
    "\n",
    "sealPath = '../Images/' + seal\n",
    "\n",
    "if seal == 'Harbor_Seals':\n",
    "    overlap = 60\n",
    "elif seal == 'Elephant_Seals':\n",
    "    overlap = 80"
   ]
  },
  {
   "cell_type": "code",
   "execution_count": 4,
   "id": "78d1c080",
   "metadata": {},
   "outputs": [],
   "source": [
    "files = next(walk(sealPath), (None, None, []))[2]  # empty if no files exist\n",
    "#print(files)"
   ]
  },
  {
   "cell_type": "code",
   "execution_count": 9,
   "id": "7fbfef0b",
   "metadata": {},
   "outputs": [
    {
     "name": "stdout",
     "output_type": "stream",
     "text": [
      "finished image 1\n",
      "finished image 2\n",
      "finished image 3\n",
      "finished image 4\n",
      "finished image 5\n",
      "finished image 6\n",
      "finished image 7\n",
      "finished image 8\n",
      "finished image 9\n",
      "finished image 10\n",
      "finished image 11\n",
      "finished image 12\n",
      "finished image 13\n",
      "finished image 14\n",
      "finished image 15\n",
      "finished image 16\n",
      "finished image 17\n",
      "finished image 18\n",
      "finished image 19\n",
      "finished image 20\n",
      "finished image 21\n",
      "finished image 22\n",
      "finished image 23\n",
      "finished image 24\n",
      "finished image 25\n",
      "finished image 26\n",
      "finished image 27\n",
      "finished image 28\n",
      "finished image 29\n",
      "finished image 30\n",
      "finished image 31\n",
      "finished image 32\n",
      "finished image 33\n",
      "finished image 34\n",
      "finished image 35\n",
      "finished image 36\n",
      "finished image 37\n",
      "finished image 38\n",
      "finished image 39\n",
      "finished image 40\n",
      "finished image 41\n",
      "finished image 42\n",
      "finished image 43\n",
      "finished image 44\n"
     ]
    }
   ],
   "source": [
    "countI = 1\n",
    "for image in files:\n",
    "    processImage(seal, image, overlap)\n",
    "    print('finished image', countI)\n",
    "    countI += 1"
   ]
  },
  {
   "cell_type": "code",
   "execution_count": null,
   "id": "2bfc8afc",
   "metadata": {},
   "outputs": [],
   "source": []
  }
 ],
 "metadata": {
  "kernelspec": {
   "display_name": "Python 3",
   "language": "python",
   "name": "python3"
  },
  "language_info": {
   "codemirror_mode": {
    "name": "ipython",
    "version": 3
   },
   "file_extension": ".py",
   "mimetype": "text/x-python",
   "name": "python",
   "nbconvert_exporter": "python",
   "pygments_lexer": "ipython3",
   "version": "3.8.8"
  }
 },
 "nbformat": 4,
 "nbformat_minor": 5
}
