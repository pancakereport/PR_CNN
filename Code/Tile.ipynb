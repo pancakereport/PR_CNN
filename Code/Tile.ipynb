{
 "cells": [
  {
   "cell_type": "code",
   "execution_count": 1,
   "id": "200d52d1",
   "metadata": {},
   "outputs": [
    {
     "ename": "ModuleNotFoundError",
     "evalue": "No module named 'rasterio'",
     "output_type": "error",
     "traceback": [
      "\u001b[1;31m---------------------------------------------------------------------------\u001b[0m",
      "\u001b[1;31mModuleNotFoundError\u001b[0m                       Traceback (most recent call last)",
      "\u001b[1;32m<ipython-input-1-d2674345781c>\u001b[0m in \u001b[0;36m<module>\u001b[1;34m\u001b[0m\n\u001b[0;32m      5\u001b[0m \u001b[1;32mimport\u001b[0m \u001b[0mjson\u001b[0m\u001b[1;33m\u001b[0m\u001b[1;33m\u001b[0m\u001b[0m\n\u001b[0;32m      6\u001b[0m \u001b[1;32mimport\u001b[0m \u001b[0mcsv\u001b[0m\u001b[1;33m\u001b[0m\u001b[1;33m\u001b[0m\u001b[0m\n\u001b[1;32m----> 7\u001b[1;33m \u001b[1;32mimport\u001b[0m \u001b[0mrasterio\u001b[0m\u001b[1;33m\u001b[0m\u001b[1;33m\u001b[0m\u001b[0m\n\u001b[0m\u001b[0;32m      8\u001b[0m \u001b[1;32mimport\u001b[0m \u001b[0mmatplotlib\u001b[0m\u001b[1;33m\u001b[0m\u001b[1;33m\u001b[0m\u001b[0m\n\u001b[0;32m      9\u001b[0m \u001b[1;32mimport\u001b[0m \u001b[0mfolium\u001b[0m\u001b[1;33m\u001b[0m\u001b[1;33m\u001b[0m\u001b[0m\n",
      "\u001b[1;31mModuleNotFoundError\u001b[0m: No module named 'rasterio'"
     ]
    }
   ],
   "source": [
    "from PIL import Image\n",
    "import os\n",
    "import argparse\n",
    "import numpy as np\n",
    "import json\n",
    "import csv\n",
    "import rasterio\n",
    "import matplotlib\n",
    "import folium\n",
    "from pyproj import Proj, transform\n",
    "\n",
    "\n",
    "%matplotlib inline\n",
    "\n",
    "\n",
    "Image.MAX_IMAGE_PIXELS = 100000000000"
   ]
  },
  {
   "cell_type": "code",
   "execution_count": null,
   "id": "f535da48",
   "metadata": {},
   "outputs": [],
   "source": [
    "# ingest the image\n",
    "infile = \"../Images/Elephant_Seals/2_14_18_49.jpg\"\n",
    "\n",
    "img_dir = '..' + infile.split(\".\")[2] + '_500x500_overlap60'\n",
    "prj_name = img_dir.split(\"/\")[-1]"
   ]
  },
  {
   "cell_type": "code",
   "execution_count": null,
   "id": "78d1c080",
   "metadata": {},
   "outputs": [],
   "source": [
    "dataset = rasterio.open(infile)"
   ]
  },
  {
   "cell_type": "code",
   "execution_count": null,
   "id": "f88abeff",
   "metadata": {},
   "outputs": [],
   "source": [
    "# what is the name of this image\n",
    "img_name = dataset.name\n",
    "print('Image filename: {n}\\n'.format(n=img_name))\n",
    "\n",
    "# How many bands does this image have?\n",
    "num_bands = dataset.count\n",
    "print('Number of bands in image: {n}\\n'.format(n=num_bands))\n",
    "\n",
    "# How many rows and columns?\n",
    "rows, cols = dataset.shape\n",
    "print('Image size is: {r} rows x {c} columns\\n'.format(r=rows, c=cols))\n",
    "\n",
    "# Does the raster have a description or metadata?\n",
    "desc = dataset.descriptions\n",
    "metadata = dataset.meta\n",
    "\n",
    "print('Raster description: {desc}\\n'.format(desc=desc))\n",
    "\n",
    "# What driver was used to open the raster?\n",
    "driver = dataset.driver\n",
    "print('Raster driver: {d}\\n'.format(d=driver))\n",
    "\n",
    "# What is the raster's projection?\n",
    "proj = dataset.crs\n",
    "print('Image projection:')\n",
    "print(proj, '\\n')\n",
    "\n",
    "# What is the raster's \"geo-transform\"\n",
    "gt = dataset.transform\n",
    "\n",
    "print('Image geo-transform:\\n{gt}\\n'.format(gt=gt))\n",
    "\n",
    "print('All raster metadata:')\n",
    "print(metadata)\n",
    "print('\\n')"
   ]
  },
  {
   "cell_type": "code",
   "execution_count": null,
   "id": "51885dda",
   "metadata": {},
   "outputs": [],
   "source": [
    "from rasterio.plot import show\n",
    "from rasterio.windows import Window\n",
    "import matplotlib.pyplot as plt\n",
    "\n",
    "fig, ax = plt.subplots(figsize=(15,15))\n",
    "\n",
    "show(dataset.read((1,2,3), window=Window(5000, 5000, 2000, 2000)), transform=dataset.transform, ax=ax)\n",
    "plt.show()"
   ]
  },
  {
   "cell_type": "code",
   "execution_count": null,
   "id": "10910b50",
   "metadata": {},
   "outputs": [],
   "source": [
    "from rasterio.windows import Window\n",
    "with rasterio.open(infile) as src:\n",
    "    w = src.read(1, window=Window(0, 0, 512, 256))"
   ]
  },
  {
   "cell_type": "code",
   "execution_count": null,
   "id": "d6b51a8e",
   "metadata": {},
   "outputs": [],
   "source": [
    "# plot the image with a histogram of band intensities\n",
    "\n",
    "from rasterio.plot import show_hist\n",
    "\n",
    "fig, (axrgb, axhist) = plt.subplots(1, 2, figsize=(14,7))\n",
    "#show(dataset, ax=axrgb)\n",
    "show(dataset.read(), transform=dataset.transform, ax=axrgb)\n",
    "show_hist(dataset, bins=50, histtype='stepfilled', lw=0.0, stacked=False, alpha=0.3, ax=axhist)\n",
    "plt.show()"
   ]
  },
  {
   "cell_type": "code",
   "execution_count": null,
   "id": "47bce3bd",
   "metadata": {},
   "outputs": [],
   "source": [
    "# Project all longitudes, latitudes\n",
    "utm_tl = dataset.transform * (0, 0)\n",
    "utm_br = dataset.transform * (dataset.width, dataset.height)\n",
    "utm_center = dataset.transform * (dataset.width // 2, dataset.height // 2)\n",
    "\n",
    "positions = dataset.transform * (0, 0), dataset.transform * (dataset.width, 0), dataset.transform * (dataset.width, dataset.height), dataset.transform * (0, dataset.height),\n",
    "\n",
    "#longs, lats = transform(p1, p2, np.array(positions)[:,0],np.array(positions)[:,1])\n",
    "\n",
    "p1 = Proj(dataset.crs)\n",
    "p2 = Proj(proj='latlong',datum='WGS84')\n",
    "tl_long, tl_lat = transform(p1, p2, utm_tl[0], utm_tl[1])\n",
    "br_long, br_lat = transform(p1, p2, utm_br[0], utm_br[1])\n",
    "center_long, center_lat = transform(p1, p2, utm_center[0], utm_center[1])\n",
    "longs, lats = transform(p1, p2, np.array(positions)[:,0],np.array(positions)[:,1])"
   ]
  },
  {
   "cell_type": "code",
   "execution_count": null,
   "id": "1b51a575",
   "metadata": {},
   "outputs": [],
   "source": [
    "points = list(zip(lats, longs))"
   ]
  },
  {
   "cell_type": "code",
   "execution_count": null,
   "id": "50244f14",
   "metadata": {},
   "outputs": [],
   "source": [
    "m = folium.Map(location=[center_lat, center_long])\n",
    "\n",
    "tooltip=\"Raster\"\n",
    "#folium.Marker([tl_lat, tl_long], popup='<i>Raster Top Left</i>', tooltip=tooltip).add_to(m)\n",
    "#folium.Marker([br_lat, br_long], popup='<i>Raster Bottom right</i>', tooltip=tooltip).add_to(m)\n",
    "#folium.Marker([center_lat, center_long], popup='<i>Raster Center</i>', tooltip=tooltip).add_to(m)\n",
    "\n",
    "folium.Polygon(points, \n",
    "               tooltip=tooltip, \n",
    "               popup='Laurelhurst Park',\n",
    "               color='#3186cc',\n",
    "               fill=True,\n",
    "               fill_color='#3186cc').add_to(m)\n",
    "\n",
    "#folium.PolyLine(points, color=\"red\", weight=100, opacity=1).add_to(m)\n",
    "\n",
    "m"
   ]
  },
  {
   "cell_type": "code",
   "execution_count": null,
   "id": "517760d3",
   "metadata": {},
   "outputs": [],
   "source": [
    "from rasterio.plot import reshape_as_image\n",
    "\n",
    "# open TIFF file (reading) mode and get dimensions\n",
    "dataset = rasterio.open(infile)\n",
    "img_height, img_width = dataset.shape\n",
    "\n",
    "# define tile size and number of pixels to move in each direction\n",
    "tile_height = tile_width = 500\n",
    "overlap = 60\n",
    "stride = tile_height - overlap\n",
    "start_num = 0\n",
    "count = 0\n",
    "img_dict = {}\n",
    "# create the dir if it doesn't already exist\n",
    "if not os.path.exists(img_dir):\n",
    "    os.makedirs(img_dir)\n",
    "\n",
    "num_tiles = (img_width * img_height) / ((tile_height - overlap) * (tile_width - overlap))\n",
    "print(dataset.shape)\n",
    "print(num_tiles)\n",
    "\n",
    "for r in range(0, img_height-tile_height+1, stride):\n",
    "    for c in range(0, img_width-tile_width+1, stride):\n",
    "        # read tile\n",
    "        tile = dataset.read((1,2,3),window=Window(c, r, tile_width, tile_height))\n",
    "        \n",
    "        reshaped_tile = reshape_as_image(tile)\n",
    "        \n",
    "        top_pixel = [c,r]\n",
    "        tile_name = prj_name + \"---\" + str(count) + \".png\"\n",
    "        img_dict[tile_name] = top_pixel\n",
    "        \n",
    "        im = Image.fromarray(reshaped_tile)\n",
    "        \n",
    "        \n",
    "        path = os.path.join(img_dir, tile_name)\n",
    "        im.save(path)\n",
    "        \n",
    "        count += 1"
   ]
  },
  {
   "cell_type": "code",
   "execution_count": null,
   "id": "c8c84c7c",
   "metadata": {},
   "outputs": [],
   "source": [
    "full_dict = {\"image_name\" : infile,\n",
    "            \"image_locations\" : img_dict,\n",
    "             \"crs\" : str(dataset.crs)\n",
    "            }\n",
    "\n",
    "with open(img_dir + '/grandjason_seblob_edited_data_500x500_overlap60.json', 'w') as fp:\n",
    "    json.dump(full_dict, fp)"
   ]
  }
 ],
 "metadata": {
  "kernelspec": {
   "display_name": "Python 3",
   "language": "python",
   "name": "python3"
  },
  "language_info": {
   "codemirror_mode": {
    "name": "ipython",
    "version": 3
   },
   "file_extension": ".py",
   "mimetype": "text/x-python",
   "name": "python",
   "nbconvert_exporter": "python",
   "pygments_lexer": "ipython3",
   "version": "3.8.8"
  }
 },
 "nbformat": 4,
 "nbformat_minor": 5
}
